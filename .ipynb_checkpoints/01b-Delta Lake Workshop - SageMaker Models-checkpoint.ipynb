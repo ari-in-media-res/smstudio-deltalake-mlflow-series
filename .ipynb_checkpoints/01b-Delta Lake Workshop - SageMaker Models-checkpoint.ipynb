{
 "cells": [
  {
   "cell_type": "code",
   "execution_count": 3,
   "id": "2c4aabc9-e904-4356-84ec-859f33c9d73d",
   "metadata": {
    "tags": []
   },
   "outputs": [
    {
     "name": "stdout",
     "output_type": "stream",
     "text": [
      "Successfully read emr cluster(j-104TXHDV2M8Z9) details\n",
      "Initiating EMR connection..\n",
      "Starting Spark application\n"
     ]
    },
    {
     "data": {
      "text/html": [
       "<table>\n",
       "<tr><th>ID</th><th>YARN Application ID</th><th>Kind</th><th>State</th><th>Spark UI</th><th>Driver log</th><th>User</th><th>Current session?</th></tr><tr><td>8</td><td>application_1682640635824_0009</td><td>pyspark</td><td>idle</td><td><a target=\"_blank\" href=\"http://ip-10-0-20-55.us-east-2.compute.internal:20888/proxy/application_1682640635824_0009/\">Link</a></td><td><a target=\"_blank\" href=\"http://ip-10-0-20-227.us-east-2.compute.internal:8042/node/containerlogs/container_1682640635824_0009_01_000001/livy\">Link</a></td><td>None</td><td>✔</td></tr></table>"
      ],
      "text/plain": [
       "<IPython.core.display.HTML object>"
      ]
     },
     "metadata": {},
     "output_type": "display_data"
    },
    {
     "data": {
      "application/vnd.jupyter.widget-view+json": {
       "model_id": "",
       "version_major": 2,
       "version_minor": 0
      },
      "text/plain": [
       "FloatProgress(value=0.0, bar_style='info', description='Progress:', layout=Layout(height='25px', width='50%'),…"
      ]
     },
     "metadata": {},
     "output_type": "display_data"
    },
    {
     "name": "stdout",
     "output_type": "stream",
     "text": [
      "SparkSession available as 'spark'.\n",
      "{\"namespace\": \"sagemaker-analytics\", \"cluster_id\": \"j-104TXHDV2M8Z9\", \"error_message\": null, \"success\": true, \"service\": \"emr\", \"operation\": \"connect\"}\n"
     ]
    }
   ],
   "source": [
    "%load_ext sagemaker_studio_analytics_extension.magics\n",
    "%sm_analytics emr connect --cluster-id j-104TXHDV2M8Z9 --auth-type None --language python  "
   ]
  },
  {
   "cell_type": "markdown",
   "id": "e279622f-c363-485f-abce-c428c2c30c83",
   "metadata": {},
   "source": [
    "# Training SageMaker XGBoost Model on Delta Lake (Loan Risk Data)\n",
    "\n",
    "<img src=\"https://d2908q01vomqb2.cloudfront.net/77de68daecd823babbb58edb1c8e14d7106e83bb/2018/04/24/SageMaker-300x150.jpg\" width=200/>\n",
    "\n",
    "This is a companion notebook to provide a SageMaker Model Training on Delta Lake example against the Lending Club data.\n",
    "* This notebook has been tested with *EMR 6.6.0, SparkMagic Kernel*"
   ]
  },
  {
   "cell_type": "code",
   "execution_count": 50,
   "id": "cadc9fe4-1511-4e4c-bd3b-785521b9e9f2",
   "metadata": {
    "tags": []
   },
   "outputs": [
    {
     "data": {
      "application/vnd.jupyter.widget-view+json": {
       "model_id": "",
       "version_major": 2,
       "version_minor": 0
      },
      "text/plain": [
       "FloatProgress(value=0.0, bar_style='info', description='Progress:', layout=Layout(height='25px', width='50%'),…"
      ]
     },
     "metadata": {},
     "output_type": "display_data"
    }
   ],
   "source": [
    "from pyspark.sql import SparkSession\n",
    "import pandas as pd\n",
    "import numpy as np"
   ]
  },
  {
   "cell_type": "code",
   "execution_count": 7,
   "id": "e6edb693-6acd-4d7c-b5e5-dff3223d3ddd",
   "metadata": {
    "tags": []
   },
   "outputs": [
    {
     "data": {
      "application/vnd.jupyter.widget-view+json": {
       "model_id": "",
       "version_major": 2,
       "version_minor": 0
      },
      "text/plain": [
       "FloatProgress(value=0.0, bar_style='info', description='Progress:', layout=Layout(height='25px', width='50%'),…"
      ]
     },
     "metadata": {},
     "output_type": "display_data"
    }
   ],
   "source": [
    "pd.set_option('display.max_columns', 100) #replace n with the number of columns you want to see completely\n",
    "pd.set_option('display.max_rows', 1000) #replace n with the numbe"
   ]
  },
  {
   "cell_type": "code",
   "execution_count": 8,
   "id": "fec5f55b-aaed-40a8-8202-0aa30690971c",
   "metadata": {
    "tags": []
   },
   "outputs": [
    {
     "data": {
      "application/vnd.jupyter.widget-view+json": {
       "model_id": "",
       "version_major": 2,
       "version_minor": 0
      },
      "text/plain": [
       "FloatProgress(value=0.0, bar_style='info', description='Progress:', layout=Layout(height='25px', width='50%'),…"
      ]
     },
     "metadata": {},
     "output_type": "display_data"
    }
   ],
   "source": [
    "# Configure location of raw parquet file\n",
    "FILENAME = \"s3://sagemaker-us-east-2-850751315356/vedjain-deltalake-2022/lending_club/full-loans-pq/part-00000-bb6c5c3e-bcce-4026-a4cf-9dda63dcf794-c000.snappy.parquet\"\n",
    "\n",
    "# Read loanstats_2012_2017.parquet\n",
    "data = spark.read.parquet(FILENAME)"
   ]
  },
  {
   "cell_type": "code",
   "execution_count": null,
   "id": "80d48d6a-707d-4808-970f-32d803d46cac",
   "metadata": {
    "tags": []
   },
   "outputs": [],
   "source": [
    "data.cache()"
   ]
  },
  {
   "cell_type": "code",
   "execution_count": 10,
   "id": "feda88b9-edf9-452a-94bf-ebc6064b2ed1",
   "metadata": {
    "scrolled": true,
    "tags": []
   },
   "outputs": [
    {
     "data": {
      "application/vnd.jupyter.widget-view+json": {
       "model_id": "",
       "version_major": 2,
       "version_minor": 0
      },
      "text/plain": [
       "FloatProgress(value=0.0, bar_style='info', description='Progress:', layout=Layout(height='25px', width='50%'),…"
      ]
     },
     "metadata": {},
     "output_type": "display_data"
    },
    {
     "name": "stdout",
     "output_type": "stream",
     "text": [
      "     id member_id  loan_amnt  funded_amnt  funded_amnt_inv        term  \\\n",
      "0  None      None    35000.0        35000          35000.0   36 months   \n",
      "1  None      None     8000.0         8000           8000.0   36 months   \n",
      "2  None      None     5000.0         5000           5000.0   36 months   \n",
      "3  None      None    10000.0        10000          10000.0   36 months   \n",
      "4  None      None    24000.0        24000          24000.0   36 months   \n",
      "\n",
      "  int_rate  installment grade sub_grade             emp_title emp_length  \\\n",
      "0   17.27%      1252.56     D        D2                 Owner  10+ years   \n",
      "1   18.25%       290.23     D        D3              Manager     9 years   \n",
      "2    6.97%       154.32     A        A3                  None        n/a   \n",
      "3    9.75%       321.50     B        B3           ELECTRICIAN  10+ years   \n",
      "4    9.75%       771.60     B        B3  C&C MACHINE OPERATOR    5 years   \n",
      "\n",
      "  home_ownership  annual_inc verification_status         loan_status  \\\n",
      "0           RENT    107000.0            Verified             Current   \n",
      "1           RENT     50000.0     Source Verified  Late (31-120 days)   \n",
      "2            OWN     25000.0     Source Verified             Current   \n",
      "3       MORTGAGE    105000.0        Not Verified             Current   \n",
      "4       MORTGAGE     50000.0            Verified             Current   \n",
      "\n",
      "  pymnt_plan   url  desc             purpose               title zip_code  \\\n",
      "0          n  None  None  debt_consolidation  Debt consolidation    900xx   \n",
      "1          n  None  None  debt_consolidation  Debt consolidation    907xx   \n",
      "2          n  None  None      major_purchase      Major purchase    179xx   \n",
      "3          n  None  None  debt_consolidation  Debt consolidation    183xx   \n",
      "4          n  None  None  debt_consolidation  Debt consolidation    377xx   \n",
      "\n",
      "  addr_state        dti  delinq_2yrs earliest_cr_line inq_last_6mths  \\\n",
      "0         CA  21.879999          0.0         Mar-1996              0   \n",
      "1         CA  22.000000          0.0         Oct-2009              0   \n",
      "2         PA   3.310000          0.0         Aug-1988              0   \n",
      "3         PA  16.629999          3.0         Jun-1995              1   \n",
      "4         TN  24.459999          0.0         Aug-1993              0   \n",
      "\n",
      "   mths_since_last_delinq mths_since_last_record  open_acc  pub_rec  \\\n",
      "0                     NaN                     47         9        2   \n",
      "1                     NaN                   None        15        0   \n",
      "2                     NaN                   None         3        0   \n",
      "3                    17.0                   None        14        0   \n",
      "4                     NaN                   None         8        0   \n",
      "\n",
      "   revol_bal revol_util  total_acc initial_list_status out_prncp  \\\n",
      "0      65692      92.7%       20.0                   w  21634.04   \n",
      "1      10227        43%       25.0                   w   5392.03   \n",
      "2       2246      34.6%       12.0                   w   2905.82   \n",
      "3      19512      65.5%       32.0                   w   5912.64   \n",
      "4      15702      54.1%       14.0                   w  14190.34   \n",
      "\n",
      "   out_prncp_inv total_pymnt  total_pymnt_inv  total_rec_prncp  total_rec_int  \\\n",
      "0       21634.04     19973.8         19973.80         13365.96        6607.84   \n",
      "1        5392.03      4047.0          4047.00          2607.97        1439.03   \n",
      "2        2905.82     2465.25          2465.25          2094.18         371.07   \n",
      "3        5912.64     5133.17          5133.17          4087.36        1045.81   \n",
      "4       14190.34    12351.31         12351.31          9809.66        2541.65   \n",
      "\n",
      "   total_rec_late_fee  recoveries  collection_recovery_fee last_pymnt_d  \\\n",
      "0                 0.0         0.0                      0.0     Aug-2017   \n",
      "1                 0.0         0.0                      0.0     Jun-2017   \n",
      "2                 0.0         0.0                      0.0     Aug-2017   \n",
      "3                 0.0         0.0                      0.0     Aug-2017   \n",
      "4                 0.0         0.0                      0.0     Aug-2017   \n",
      "\n",
      "  last_pymnt_amnt next_pymnt_d last_credit_pull_d collections_12_mths_ex_med  \\\n",
      "0         1252.56     Sep-2017           Aug-2017                          0   \n",
      "1          290.23     Sep-2017           Aug-2017                          0   \n",
      "2          154.32     Sep-2017           Aug-2017                          0   \n",
      "3           321.5     Sep-2017           Aug-2017                          0   \n",
      "4           771.6     Sep-2017           Aug-2017                          0   \n",
      "\n",
      "  mths_since_last_major_derog  ... mths_since_recent_revol_delinq  \\\n",
      "0                        None  ...                            NaN   \n",
      "1                        None  ...                            NaN   \n",
      "2                        None  ...                            NaN   \n",
      "3                        None  ...                           17.0   \n",
      "4                        None  ...                            NaN   \n",
      "\n",
      "  num_accts_ever_120_pd num_actv_bc_tl  num_actv_rev_tl num_bc_sats  \\\n",
      "0                     0              2                3           4   \n",
      "1                     0              3                7           4   \n",
      "2                     0              1                2           2   \n",
      "3                     0              6               11           6   \n",
      "4                     0              4                5           4   \n",
      "\n",
      "   num_bc_tl  num_il_tl  num_op_rev_tl  num_rev_accts  num_rev_tl_bal_gt_0  \\\n",
      "0          6          9              7             11                    3   \n",
      "1          5          4             13             19                    7   \n",
      "2          4          2              3              8                    2   \n",
      "3         12         11             11             18                   11   \n",
      "4          8          1              6             11                    5   \n",
      "\n",
      "   num_sats  num_tl_120dpd_2m  num_tl_30dpd  num_tl_90g_dpd_24m  \\\n",
      "0         9                 0             0                   0   \n",
      "1        15                 0             0                   0   \n",
      "2         3                 0             0                   0   \n",
      "3        14                 0             0                   0   \n",
      "4         8                 0             0                   0   \n",
      "\n",
      "   num_tl_op_past_12m  pct_tl_nvr_dlq  percent_bc_gt_75  pub_rec_bankruptcies  \\\n",
      "0                   2           100.0              50.0                     0   \n",
      "1                   2           100.0             100.0                     0   \n",
      "2                   0           100.0              50.0                     0   \n",
      "3                   4            78.1              66.7                     0   \n",
      "4                   0           100.0              25.0                     0   \n",
      "\n",
      "   tax_liens  tot_hi_cred_lim  total_bal_ex_mort  total_bc_limit  \\\n",
      "0          2            93936              86057           48400   \n",
      "1          0            54092              33913            6500   \n",
      "2          0             6500               2246            4500   \n",
      "3          0           340397              42533           15500   \n",
      "4          0           113715              46058           20000   \n",
      "\n",
      "   total_il_high_credit_limit  revol_bal_joint  sec_app_earliest_cr_line  \\\n",
      "0                       23036              NaN                      None   \n",
      "1                       30292              NaN                      None   \n",
      "2                           0              NaN                      None   \n",
      "3                       39561              NaN                      None   \n",
      "4                       36715              NaN                      None   \n",
      "\n",
      "   sec_app_inq_last_6mths  sec_app_mort_acc  sec_app_open_acc  \\\n",
      "0                     NaN               NaN               NaN   \n",
      "1                     NaN               NaN               NaN   \n",
      "2                     NaN               NaN               NaN   \n",
      "3                     NaN               NaN               NaN   \n",
      "4                     NaN               NaN               NaN   \n",
      "\n",
      "   sec_app_revol_util  sec_app_open_il_6m  sec_app_num_rev_accts  \\\n",
      "0                 NaN                 NaN                    NaN   \n",
      "1                 NaN                 NaN                    NaN   \n",
      "2                 NaN                 NaN                    NaN   \n",
      "3                 NaN                 NaN                    NaN   \n",
      "4                 NaN                 NaN                    NaN   \n",
      "\n",
      "   sec_app_chargeoff_within_12_mths  sec_app_collections_12_mths_ex_med  \\\n",
      "0                               NaN                                 NaN   \n",
      "1                               NaN                                 NaN   \n",
      "2                               NaN                                 NaN   \n",
      "3                               NaN                                 NaN   \n",
      "4                               NaN                                 NaN   \n",
      "\n",
      "   sec_app_mths_since_last_major_derog  hardship_flag  hardship_type  \\\n",
      "0                                  NaN              N           None   \n",
      "1                                  NaN              N           None   \n",
      "2                                  NaN              N           None   \n",
      "3                                  NaN              N           None   \n",
      "4                                  NaN              N           None   \n",
      "\n",
      "   hardship_reason  hardship_status  deferral_term  hardship_amount  \\\n",
      "0             None             None            NaN              NaN   \n",
      "1             None             None            NaN              NaN   \n",
      "2             None             None            NaN              NaN   \n",
      "3             None             None            NaN              NaN   \n",
      "4             None             None            NaN              NaN   \n",
      "\n",
      "   hardship_start_date  hardship_end_date  payment_plan_start_date  \\\n",
      "0                 None               None                     None   \n",
      "1                 None               None                     None   \n",
      "2                 None               None                     None   \n",
      "3                 None               None                     None   \n",
      "4                 None               None                     None   \n",
      "\n",
      "   hardship_length  hardship_dpd  hardship_loan_status  \\\n",
      "0              NaN           NaN                  None   \n",
      "1              NaN           NaN                  None   \n",
      "2              NaN           NaN                  None   \n",
      "3              NaN           NaN                  None   \n",
      "4              NaN           NaN                  None   \n",
      "\n",
      "   orig_projected_additional_accrued_interest  hardship_payoff_balance_amount  \\\n",
      "0                                         NaN                             NaN   \n",
      "1                                         NaN                             NaN   \n",
      "2                                         NaN                             NaN   \n",
      "3                                         NaN                             NaN   \n",
      "4                                         NaN                             NaN   \n",
      "\n",
      "   hardship_last_payment_amount   issue_d  \n",
      "0                           NaN  Mar-2016  \n",
      "1                           NaN  Mar-2016  \n",
      "2                           NaN  Mar-2016  \n",
      "3                           NaN  Mar-2016  \n",
      "4                           NaN  Mar-2016  \n",
      "\n",
      "[5 rows x 137 columns]"
     ]
    }
   ],
   "source": [
    "print(data.limit(5).toPandas())"
   ]
  },
  {
   "cell_type": "code",
   "execution_count": 11,
   "id": "95f725ac-ab71-4e03-9aae-bfaa6b2a53cf",
   "metadata": {
    "scrolled": true,
    "tags": []
   },
   "outputs": [
    {
     "data": {
      "application/vnd.jupyter.widget-view+json": {
       "model_id": "",
       "version_major": 2,
       "version_minor": 0
      },
      "text/plain": [
       "FloatProgress(value=0.0, bar_style='info', description='Progress:', layout=Layout(height='25px', width='50%'),…"
      ]
     },
     "metadata": {},
     "output_type": "display_data"
    },
    {
     "name": "stdout",
     "output_type": "stream",
     "text": [
      "root\n",
      " |-- id: string (nullable = true)\n",
      " |-- member_id: string (nullable = true)\n",
      " |-- loan_amnt: float (nullable = true)\n",
      " |-- funded_amnt: integer (nullable = true)\n",
      " |-- funded_amnt_inv: double (nullable = true)\n",
      " |-- term: string (nullable = true)\n",
      " |-- int_rate: string (nullable = true)\n",
      " |-- installment: double (nullable = true)\n",
      " |-- grade: string (nullable = true)\n",
      " |-- sub_grade: string (nullable = true)\n",
      " |-- emp_title: string (nullable = true)\n",
      " |-- emp_length: string (nullable = true)\n",
      " |-- home_ownership: string (nullable = true)\n",
      " |-- annual_inc: float (nullable = true)\n",
      " |-- verification_status: string (nullable = true)\n",
      " |-- loan_status: string (nullable = true)\n",
      " |-- pymnt_plan: string (nullable = true)\n",
      " |-- url: string (nullable = true)\n",
      " |-- desc: string (nullable = true)\n",
      " |-- purpose: string (nullable = true)\n",
      " |-- title: string (nullable = true)\n",
      " |-- zip_code: string (nullable = true)\n",
      " |-- addr_state: string (nullable = true)\n",
      " |-- dti: float (nullable = true)\n",
      " |-- delinq_2yrs: float (nullable = true)\n",
      " |-- earliest_cr_line: string (nullable = true)\n",
      " |-- inq_last_6mths: string (nullable = true)\n",
      " |-- mths_since_last_delinq: integer (nullable = true)\n",
      " |-- mths_since_last_record: string (nullable = true)\n",
      " |-- open_acc: integer (nullable = true)\n",
      " |-- pub_rec: integer (nullable = true)\n",
      " |-- revol_bal: integer (nullable = true)\n",
      " |-- revol_util: string (nullable = true)\n",
      " |-- total_acc: float (nullable = true)\n",
      " |-- initial_list_status: string (nullable = true)\n",
      " |-- out_prncp: string (nullable = true)\n",
      " |-- out_prncp_inv: double (nullable = true)\n",
      " |-- total_pymnt: string (nullable = true)\n",
      " |-- total_pymnt_inv: double (nullable = true)\n",
      " |-- total_rec_prncp: double (nullable = true)\n",
      " |-- total_rec_int: double (nullable = true)\n",
      " |-- total_rec_late_fee: double (nullable = true)\n",
      " |-- recoveries: double (nullable = true)\n",
      " |-- collection_recovery_fee: double (nullable = true)\n",
      " |-- last_pymnt_d: string (nullable = true)\n",
      " |-- last_pymnt_amnt: string (nullable = true)\n",
      " |-- next_pymnt_d: string (nullable = true)\n",
      " |-- last_credit_pull_d: string (nullable = true)\n",
      " |-- collections_12_mths_ex_med: string (nullable = true)\n",
      " |-- mths_since_last_major_derog: string (nullable = true)\n",
      " |-- policy_code: string (nullable = true)\n",
      " |-- application_type: string (nullable = true)\n",
      " |-- annual_inc_joint: string (nullable = true)\n",
      " |-- dti_joint: double (nullable = true)\n",
      " |-- verification_status_joint: string (nullable = true)\n",
      " |-- acc_now_delinq: integer (nullable = true)\n",
      " |-- tot_coll_amt: integer (nullable = true)\n",
      " |-- tot_cur_bal: integer (nullable = true)\n",
      " |-- open_acc_6m: integer (nullable = true)\n",
      " |-- open_il_6m: integer (nullable = true)\n",
      " |-- open_il_12m: integer (nullable = true)\n",
      " |-- open_il_24m: integer (nullable = true)\n",
      " |-- mths_since_rcnt_il: integer (nullable = true)\n",
      " |-- total_bal_il: integer (nullable = true)\n",
      " |-- il_util: integer (nullable = true)\n",
      " |-- open_rv_12m: integer (nullable = true)\n",
      " |-- open_rv_24m: integer (nullable = true)\n",
      " |-- max_bal_bc: integer (nullable = true)\n",
      " |-- all_util: integer (nullable = true)\n",
      " |-- total_rev_hi_lim: integer (nullable = true)\n",
      " |-- inq_fi: integer (nullable = true)\n",
      " |-- total_cu_tl: integer (nullable = true)\n",
      " |-- inq_last_12m: integer (nullable = true)\n",
      " |-- acc_open_past_24mths: integer (nullable = true)\n",
      " |-- avg_cur_bal: integer (nullable = true)\n",
      " |-- bc_open_to_buy: integer (nullable = true)\n",
      " |-- bc_util: double (nullable = true)\n",
      " |-- chargeoff_within_12_mths: double (nullable = true)\n",
      " |-- delinq_amnt: integer (nullable = true)\n",
      " |-- mo_sin_old_il_acct: double (nullable = true)\n",
      " |-- mo_sin_old_rev_tl_op: integer (nullable = true)\n",
      " |-- mo_sin_rcnt_rev_tl_op: integer (nullable = true)\n",
      " |-- mo_sin_rcnt_tl: integer (nullable = true)\n",
      " |-- mort_acc: integer (nullable = true)\n",
      " |-- mths_since_recent_bc: integer (nullable = true)\n",
      " |-- mths_since_recent_bc_dlq: integer (nullable = true)\n",
      " |-- mths_since_recent_inq: integer (nullable = true)\n",
      " |-- mths_since_recent_revol_delinq: integer (nullable = true)\n",
      " |-- num_accts_ever_120_pd: integer (nullable = true)\n",
      " |-- num_actv_bc_tl: integer (nullable = true)\n",
      " |-- num_actv_rev_tl: integer (nullable = true)\n",
      " |-- num_bc_sats: integer (nullable = true)\n",
      " |-- num_bc_tl: integer (nullable = true)\n",
      " |-- num_il_tl: integer (nullable = true)\n",
      " |-- num_op_rev_tl: integer (nullable = true)\n",
      " |-- num_rev_accts: integer (nullable = true)\n",
      " |-- num_rev_tl_bal_gt_0: integer (nullable = true)\n",
      " |-- num_sats: integer (nullable = true)\n",
      " |-- num_tl_120dpd_2m: integer (nullable = true)\n",
      " |-- num_tl_30dpd: integer (nullable = true)\n",
      " |-- num_tl_90g_dpd_24m: integer (nullable = true)\n",
      " |-- num_tl_op_past_12m: integer (nullable = true)\n",
      " |-- pct_tl_nvr_dlq: double (nullable = true)\n",
      " |-- percent_bc_gt_75: double (nullable = true)\n",
      " |-- pub_rec_bankruptcies: integer (nullable = true)\n",
      " |-- tax_liens: integer (nullable = true)\n",
      " |-- tot_hi_cred_lim: integer (nullable = true)\n",
      " |-- total_bal_ex_mort: integer (nullable = true)\n",
      " |-- total_bc_limit: integer (nullable = true)\n",
      " |-- total_il_high_credit_limit: integer (nullable = true)\n",
      " |-- revol_bal_joint: integer (nullable = true)\n",
      " |-- sec_app_earliest_cr_line: string (nullable = true)\n",
      " |-- sec_app_inq_last_6mths: integer (nullable = true)\n",
      " |-- sec_app_mort_acc: integer (nullable = true)\n",
      " |-- sec_app_open_acc: integer (nullable = true)\n",
      " |-- sec_app_revol_util: double (nullable = true)\n",
      " |-- sec_app_open_il_6m: integer (nullable = true)\n",
      " |-- sec_app_num_rev_accts: integer (nullable = true)\n",
      " |-- sec_app_chargeoff_within_12_mths: integer (nullable = true)\n",
      " |-- sec_app_collections_12_mths_ex_med: integer (nullable = true)\n",
      " |-- sec_app_mths_since_last_major_derog: integer (nullable = true)\n",
      " |-- hardship_flag: string (nullable = true)\n",
      " |-- hardship_type: string (nullable = true)\n",
      " |-- hardship_reason: string (nullable = true)\n",
      " |-- hardship_status: string (nullable = true)\n",
      " |-- deferral_term: integer (nullable = true)\n",
      " |-- hardship_amount: double (nullable = true)\n",
      " |-- hardship_start_date: string (nullable = true)\n",
      " |-- hardship_end_date: string (nullable = true)\n",
      " |-- payment_plan_start_date: string (nullable = true)\n",
      " |-- hardship_length: integer (nullable = true)\n",
      " |-- hardship_dpd: integer (nullable = true)\n",
      " |-- hardship_loan_status: string (nullable = true)\n",
      " |-- orig_projected_additional_accrued_interest: double (nullable = true)\n",
      " |-- hardship_payoff_balance_amount: double (nullable = true)\n",
      " |-- hardship_last_payment_amount: double (nullable = true)\n",
      " |-- issue_d: string (nullable = true)"
     ]
    }
   ],
   "source": [
    "data.printSchema()"
   ]
  },
  {
   "cell_type": "markdown",
   "id": "85bd64fc-1e5b-425d-a641-16138e3930ab",
   "metadata": {},
   "source": [
    "#### Dataset details can be found here: https://www.kaggle.com/datasets/wordsforthewise/lending-club"
   ]
  },
  {
   "cell_type": "markdown",
   "id": "2698693a-5ae2-4fd0-adc4-90fc1dbfd436",
   "metadata": {},
   "source": [
    "### Munge Data - create feature columns"
   ]
  },
  {
   "cell_type": "code",
   "execution_count": 12,
   "id": "6a9f137c-1714-4f35-a909-9314224523f3",
   "metadata": {
    "tags": []
   },
   "outputs": [
    {
     "data": {
      "application/vnd.jupyter.widget-view+json": {
       "model_id": "",
       "version_major": 2,
       "version_minor": 0
      },
      "text/plain": [
       "FloatProgress(value=0.0, bar_style='info', description='Progress:', layout=Layout(height='25px', width='50%'),…"
      ]
     },
     "metadata": {},
     "output_type": "display_data"
    },
    {
     "name": "stdout",
     "output_type": "stream",
     "text": [
      "------------------------------------------------------------------------------------------------\n",
      "Create bad loan label, this will include charged off, defaulted, and late repayments on loans...\n",
      "------------------------------------------------------------------------------------------------\n",
      "Turning string interest rate and revoling util columns into numeric columns...\n",
      "------------------------------------------------------------------------------------------------\n",
      "Converting emp_length column into numeric...\n",
      "------------------------------------------------------------------------------------------------\n",
      "Map multiple levels into one factor level for verification_status...\n",
      "------------------------------------------------------------------------------------------------\n",
      "Calculate the total amount of money earned or lost per loan..."
     ]
    }
   ],
   "source": [
    "from pyspark.sql.functions import *\n",
    "\n",
    "print(\"------------------------------------------------------------------------------------------------\")\n",
    "print(\"Create bad loan label, this will include charged off, defaulted, and late repayments on loans...\")\n",
    "data = data.filter(data.loan_status.isin([\"Default\", \"Charged Off\", \"Fully Paid\"]))\\\n",
    "                       .withColumn(\"bad_loan\", (~(data.loan_status == \"Fully Paid\")).cast(\"string\"))\n",
    "\n",
    "print(\"------------------------------------------------------------------------------------------------\")\n",
    "print(\"Turning string interest rate and revoling util columns into numeric columns...\")\n",
    "data = data.withColumn('int_rate', regexp_replace('int_rate', '%', '').cast('float')) \\\n",
    "                       .withColumn('revol_util', regexp_replace('revol_util', '%', '').cast('float')) \\\n",
    "                       .withColumn('issue_year',  substring(data.issue_d, 5, 4).cast('double') ) \\\n",
    "                       .withColumn('earliest_year', substring(data.earliest_cr_line, 5, 4).cast('double'))\n",
    "data = data.withColumn('credit_length_in_years', (data.issue_year - data.earliest_year))\n",
    "\n",
    "\n",
    "print(\"------------------------------------------------------------------------------------------------\")\n",
    "print(\"Converting emp_length column into numeric...\")\n",
    "data = data.withColumn('emp_length', trim(regexp_replace(data.emp_length, \"([ ]*+[a-zA-Z].*)|(n/a)\", \"\") ))\n",
    "data = data.withColumn('emp_length', trim(regexp_replace(data.emp_length, \"< 1\", \"0\") ))\n",
    "data = data.withColumn('emp_length', trim(regexp_replace(data.emp_length, \"10\\\\+\", \"10\") ).cast('float'))\n",
    "\n",
    "print(\"------------------------------------------------------------------------------------------------\")\n",
    "print(\"Map multiple levels into one factor level for verification_status...\")\n",
    "data = data.withColumn('verification_status', trim(regexp_replace(data.verification_status, 'Source Verified', 'Verified')))\n",
    "\n",
    "print(\"------------------------------------------------------------------------------------------------\")\n",
    "print(\"Calculate the total amount of money earned or lost per loan...\")\n",
    "data = data.withColumn('net', round( data.total_pymnt - data.loan_amnt, 2))"
   ]
  },
  {
   "cell_type": "code",
   "execution_count": 13,
   "id": "8c1a36e8-ba80-4f69-8579-ac6f452fe3d4",
   "metadata": {
    "scrolled": true,
    "tags": []
   },
   "outputs": [
    {
     "data": {
      "application/vnd.jupyter.widget-view+json": {
       "model_id": "",
       "version_major": 2,
       "version_minor": 0
      },
      "text/plain": [
       "FloatProgress(value=0.0, bar_style='info', description='Progress:', layout=Layout(height='25px', width='50%'),…"
      ]
     },
     "metadata": {},
     "output_type": "display_data"
    },
    {
     "name": "stdout",
     "output_type": "stream",
     "text": [
      "        net verification_status  int_rate  revol_util  issue_year  \\\n",
      "0     98.34        Not Verified      5.32   27.900000      2016.0   \n",
      "1    263.31            Verified      9.75   19.400000      2016.0   \n",
      "2    361.74        Not Verified      5.32   23.900000      2016.0   \n",
      "3   1088.67            Verified     12.99   75.400002      2016.0   \n",
      "4 -20306.74            Verified     21.18   87.500000      2016.0   \n",
      "5    330.35            Verified      7.39   59.099998      2016.0   \n",
      "6 -14837.19            Verified     15.31    7.700000      2016.0   \n",
      "7   2405.39            Verified     17.27   72.000000      2016.0   \n",
      "8    632.18            Verified      9.16   28.799999      2016.0   \n",
      "9   1044.92        Not Verified     15.31   97.199997      2016.0   \n",
      "\n",
      "   earliest_year bad_loan  credit_length_in_years  emp_length  \n",
      "0         2000.0    false                    16.0         8.0  \n",
      "1         2010.0    false                     6.0         1.0  \n",
      "2         1989.0    false                    27.0        10.0  \n",
      "3         2007.0    false                     9.0         1.0  \n",
      "4         2004.0     true                    12.0         0.0  \n",
      "5         1995.0    false                    21.0         2.0  \n",
      "6         1998.0     true                    18.0         NaN  \n",
      "7         1997.0    false                    19.0         9.0  \n",
      "8         1998.0    false                    18.0        10.0  \n",
      "9         2003.0    false                    13.0         5.0"
     ]
    }
   ],
   "source": [
    "print(data.select(\"net\",\"verification_status\",\"int_rate\", \"revol_util\", \"issue_year\", \"earliest_year\", \"bad_loan\", \"credit_length_in_years\", \"emp_length\").limit(10).toPandas())"
   ]
  },
  {
   "cell_type": "markdown",
   "id": "2bf8bbea-1a77-4012-a3c6-5766cf727047",
   "metadata": {
    "tags": []
   },
   "source": [
    "### Set Response & Predictor Variables"
   ]
  },
  {
   "cell_type": "code",
   "execution_count": 44,
   "id": "3be36963-b03a-41d3-9e61-bb8d0787d034",
   "metadata": {
    "tags": []
   },
   "outputs": [
    {
     "data": {
      "application/vnd.jupyter.widget-view+json": {
       "model_id": "",
       "version_major": 2,
       "version_minor": 0
      },
      "text/plain": [
       "FloatProgress(value=0.0, bar_style='info', description='Progress:', layout=Layout(height='25px', width='50%'),…"
      ]
     },
     "metadata": {},
     "output_type": "display_data"
    },
    {
     "name": "stdout",
     "output_type": "stream",
     "text": [
      "------------------------------------------------------------------------------------------------\n",
      "Setting variables to predict bad loans"
     ]
    }
   ],
   "source": [
    "print(\"------------------------------------------------------------------------------------------------\")\n",
    "print(\"Setting variables to predict bad loans\")\n",
    "myY = \"bad_loan\"\n",
    "categoricals = [\"term\", \"home_ownership\", \"purpose\", \"addr_state\",\n",
    "                \"verification_status\",\"application_type\"]\n",
    "numerics = [\"loan_amnt\",\"emp_length\", \"annual_inc\",\"dti\",\n",
    "            \"delinq_2yrs\",\"revol_util\",\"total_acc\",\n",
    "            \"credit_length_in_years\"]\n",
    "myX = categoricals + numerics\n",
    "\n",
    "loan_stats = data.select(myX + [myY, \"int_rate\", \"net\", \"issue_year\"])\n",
    "loan_stats.createOrReplaceTempView(\"loanStatsView\")"
   ]
  },
  {
   "cell_type": "markdown",
   "id": "8682efb1-e78d-4cf9-b975-9a4526de98ae",
   "metadata": {},
   "source": [
    "#### You can use SparkSQL queries using %%sql from the notebook and save results to a local DataFrame. This allows for a quick data exploration. The maximum rows returned by default is 2,500. You can set the maximum rows by using the -n argument."
   ]
  },
  {
   "cell_type": "code",
   "execution_count": 15,
   "id": "287bb7dd-ae5b-4e92-be97-9a4d288a58b3",
   "metadata": {
    "scrolled": true,
    "tags": []
   },
   "outputs": [
    {
     "data": {
      "application/vnd.jupyter.widget-view+json": {
       "model_id": "",
       "version_major": 2,
       "version_minor": 0
      },
      "text/plain": [
       "FloatProgress(value=0.0, bar_style='info', description='Progress:', layout=Layout(height='25px', width='50%'),…"
      ]
     },
     "metadata": {},
     "output_type": "display_data"
    },
    {
     "data": {
      "application/vnd.jupyter.widget-view+json": {
       "model_id": "199992b0340a4eb5af8255aa062c6763",
       "version_major": 2,
       "version_minor": 0
      },
      "text/plain": [
       "VBox(children=(HBox(children=(HTML(value='Type:'), Button(description='Table', layout=Layout(width='70px'), st…"
      ]
     },
     "metadata": {},
     "output_type": "display_data"
    },
    {
     "data": {
      "application/vnd.jupyter.widget-view+json": {
       "model_id": "1022fcfb70aa4416bf43d83451237de4",
       "version_major": 2,
       "version_minor": 0
      },
      "text/plain": [
       "Output()"
      ]
     },
     "metadata": {},
     "output_type": "display_data"
    }
   ],
   "source": [
    "%%sql -o loan_stats\n",
    "select * from loanStatsView"
   ]
  },
  {
   "cell_type": "markdown",
   "id": "92ecab4e-c47f-4e49-a960-04142ba5250b",
   "metadata": {},
   "source": [
    "#### You can then access and explore Spark dataframe locally"
   ]
  },
  {
   "cell_type": "code",
   "execution_count": 17,
   "id": "4b8011c6-fda0-498b-ac5e-8480032a4691",
   "metadata": {
    "tags": []
   },
   "outputs": [
    {
     "data": {
      "application/vnd.jupyter.widget-view+json": {
       "model_id": "686357d8f7524191ac56067b17252525",
       "version_major": 2,
       "version_minor": 0
      },
      "text/plain": [
       "VBox(children=(HBox(children=(HTML(value='Type:'), Button(description='Table', layout=Layout(width='70px'), st…"
      ]
     },
     "metadata": {},
     "output_type": "display_data"
    },
    {
     "data": {
      "application/vnd.jupyter.widget-view+json": {
       "model_id": "b3e5e4156fa147e19ec0e30d5e51f390",
       "version_major": 2,
       "version_minor": 0
      },
      "text/plain": [
       "Output()"
      ]
     },
     "metadata": {},
     "output_type": "display_data"
    }
   ],
   "source": [
    "%%local \n",
    "loan_stats.head(10)"
   ]
  },
  {
   "cell_type": "code",
   "execution_count": 48,
   "id": "1b4e4fdb-e49e-43fa-94fb-646ec68f4fdf",
   "metadata": {
    "tags": []
   },
   "outputs": [
    {
     "data": {
      "application/vnd.jupyter.widget-view+json": {
       "model_id": "",
       "version_major": 2,
       "version_minor": 0
      },
      "text/plain": [
       "FloatProgress(value=0.0, bar_style='info', description='Progress:', layout=Layout(height='25px', width='50%'),…"
      ]
     },
     "metadata": {},
     "output_type": "display_data"
    },
    {
     "name": "stdout",
     "output_type": "stream",
     "text": [
      "Index(['bad_loan', 'term', 'home_ownership', 'purpose', 'addr_state',\n",
      "       'verification_status', 'application_type', 'loan_amnt', 'emp_length',\n",
      "       'annual_inc', 'dti', 'delinq_2yrs', 'revol_util', 'total_acc',\n",
      "       'credit_length_in_years', 'int_rate', 'net', 'issue_year'],\n",
      "      dtype='object')"
     ]
    }
   ],
   "source": [
    "loan_stats.columns"
   ]
  },
  {
   "cell_type": "markdown",
   "id": "fd993c13-af99-4ccb-b734-28a2ddb4290c",
   "metadata": {},
   "source": [
    "### Create Train / Validation Split for SageMaker XGBoost Model"
   ]
  },
  {
   "cell_type": "code",
   "execution_count": 92,
   "id": "2c2676b9-512e-468a-b431-a93ec4481b18",
   "metadata": {
    "scrolled": true,
    "tags": []
   },
   "outputs": [
    {
     "data": {
      "application/vnd.jupyter.widget-view+json": {
       "model_id": "",
       "version_major": 2,
       "version_minor": 0
      },
      "text/plain": [
       "FloatProgress(value=0.0, bar_style='info', description='Progress:', layout=Layout(height='25px', width='50%'),…"
      ]
     },
     "metadata": {},
     "output_type": "display_data"
    }
   ],
   "source": [
    "# SageMaker XGBoost has the convention of label in the first column\n",
    "loan_stats = loan_stats.toPandas()\n",
    "label = loan_stats.pop('bad_loan')\n",
    "loan_stats.insert(0, 'bad_loan', label)\n",
    "  \n",
    "loan_stats[categoricals] = loan_stats[categoricals].apply(lambda x: x.astype(\"category\").cat.codes)\n",
    "loan_stats['bad_loan'] = loan_stats['bad_loan'].astype(\"category\").cat.codes"
   ]
  },
  {
   "cell_type": "code",
   "execution_count": 93,
   "id": "26ce849f-8042-498f-8feb-bbe2d54495c6",
   "metadata": {
    "tags": []
   },
   "outputs": [
    {
     "data": {
      "application/vnd.jupyter.widget-view+json": {
       "model_id": "",
       "version_major": 2,
       "version_minor": 0
      },
      "text/plain": [
       "FloatProgress(value=0.0, bar_style='info', description='Progress:', layout=Layout(height='25px', width='50%'),…"
      ]
     },
     "metadata": {},
     "output_type": "display_data"
    },
    {
     "name": "stdout",
     "output_type": "stream",
     "text": [
      "training data size = 526439 | validation data size = 131610"
     ]
    }
   ],
   "source": [
    "# # Split the downloaded loan_stats into train/test loan_statsframes\n",
    "train, valid = np.split(loan_stats.sample(frac=1), [int(0.8 * len(loan_stats))])\n",
    "\n",
    "print(\"training data size = %d | validation data size = %d\" % (len(train), len(valid)))\n",
    "train_df = spark.createDataFrame(train)\n",
    "valid_df = spark.createDataFrame(valid)"
   ]
  },
  {
   "cell_type": "markdown",
   "id": "08ca6d42-ce22-48a5-b22f-b613f99cf980",
   "metadata": {
    "tags": []
   },
   "source": [
    "### Write Train / Validation data to S3"
   ]
  },
  {
   "cell_type": "code",
   "execution_count": 107,
   "id": "c342b791-fbf6-4172-96d8-620a11f7ae32",
   "metadata": {
    "tags": []
   },
   "outputs": [
    {
     "data": {
      "application/vnd.jupyter.widget-view+json": {
       "model_id": "",
       "version_major": 2,
       "version_minor": 0
      },
      "text/plain": [
       "FloatProgress(value=0.0, bar_style='info', description='Progress:', layout=Layout(height='25px', width='50%'),…"
      ]
     },
     "metadata": {},
     "output_type": "display_data"
    }
   ],
   "source": [
    "train_df.coalesce(1).write.mode(\"overwrite\").parquet(\"s3://sagemaker-us-east-2-850751315356/vedjain-deltalake-2022/lending_club/sagemaker-xg-boost/train.parquet\")\n",
    "valid_df.coalesce(1).write.mode(\"overwrite\").parquet(\"s3://sagemaker-us-east-2-850751315356/vedjain-deltalake-2022/lending_club/sagemaker-xg-boost/validation.parquet\")"
   ]
  },
  {
   "cell_type": "markdown",
   "id": "c3aa7668-6303-4f7b-b773-5be979736c4d",
   "metadata": {},
   "source": [
    "## Train SageMaker XGBoost Model"
   ]
  },
  {
   "cell_type": "code",
   "execution_count": 125,
   "id": "a72981c1-ea56-4c92-8831-8486af9d1f25",
   "metadata": {
    "tags": []
   },
   "outputs": [],
   "source": [
    "%%local \n",
    "\n",
    "import io\n",
    "import os\n",
    "import boto3\n",
    "import sagemaker\n",
    "\n",
    "role = sagemaker.get_execution_role()\n",
    "region = boto3.Session().region_name\n",
    "\n",
    "# S3 bucket for saving code and model artifacts.\n",
    "# Feel free to specify a different bucket here if you wish.\n",
    "bucket = sagemaker.Session().default_bucket()\n",
    "prefix = \"vedjain-deltalake-2022/lending_club/sagemaker-xg-boost\"\n",
    "# customize to your bucket where you have would like to store the data\n",
    "bucket_path = \"https://s3-{}.amazonaws.com/{}\".format(region, bucket)\n",
    "container = sagemaker.image_uris.retrieve(\"xgboost\", \"us-east-2\", \"1.7-1\")"
   ]
  },
  {
   "cell_type": "code",
   "execution_count": 126,
   "id": "dece15cf-bb35-4711-996f-4cd6750c2193",
   "metadata": {
    "tags": []
   },
   "outputs": [
    {
     "name": "stdout",
     "output_type": "stream",
     "text": [
      "Training job xgboost-parquet-loans-training-2023-05-02-20-00-11\n",
      "Creating a training job with name: xgboost-parquet-loans-training-2023-05-02-20-00-11. It will take between 5 and 6 minutes to complete.\n",
      "InProgress\n",
      "InProgress\n",
      "InProgress\n",
      "Completed\n"
     ]
    }
   ],
   "source": [
    "%%local\n",
    "import time\n",
    "from time import gmtime, strftime\n",
    "\n",
    "client = boto3.client(\"sagemaker\", region_name=region)\n",
    "use_amt = True\n",
    "\n",
    "training_job_name = \"xgboost-parquet-loans-training-\" + strftime(\"%Y-%m-%d-%H-%M-%S\", gmtime())\n",
    "print(\"Training job\", training_job_name)\n",
    "\n",
    "# Ensure that the training and validation data folders generated above are reflected in the \"InputDataConfig\" parameter below.\n",
    "\n",
    "create_training_params = {\n",
    "    \"AlgorithmSpecification\": {\"TrainingImage\": container, \"TrainingInputMode\": \"Pipe\"},\n",
    "    \"RoleArn\": role,\n",
    "    \"OutputDataConfig\": {\"S3OutputPath\": f\"{bucket_path}/{prefix}/single-xgboost\"},\n",
    "    \"ResourceConfig\": {\"InstanceCount\": 4, \"InstanceType\": \"ml.m5.2xlarge\", \"VolumeSizeInGB\": 20, \"KeepAlivePeriodInSeconds\":3600},\n",
    "    \"TrainingJobName\": training_job_name,\n",
    "    \"HyperParameters\": {\n",
    "        \"max_depth\": \"5\",\n",
    "        \"eta\": \"0.2\",\n",
    "        \"gamma\": \"4\",\n",
    "        \"min_child_weight\": \"6\",\n",
    "        \"subsample\": \"0.7\",\n",
    "        \"objective\": \"reg:linear\",\n",
    "        \"num_round\": \"10\",\n",
    "        \"verbosity\": \"2\",\n",
    "    },\n",
    "    \"StoppingCondition\": {\"MaxRuntimeInSeconds\": 3600},\n",
    "    \"InputDataConfig\": [\n",
    "        {\n",
    "            \"ChannelName\": \"train\",\n",
    "            \"DataSource\": {\n",
    "                \"S3DataSource\": {\n",
    "                    \"S3DataType\": \"S3Prefix\",\n",
    "                    \"S3Uri\": f\"{bucket_path}/{prefix}/train.parquet/\",\n",
    "                    \"S3DataDistributionType\": \"FullyReplicated\",\n",
    "                }\n",
    "            },\n",
    "            \"ContentType\": \"application/x-parquet\",\n",
    "            \"CompressionType\": \"None\",\n",
    "        },\n",
    "        {\n",
    "            \"ChannelName\": \"validation\",\n",
    "            \"DataSource\": {\n",
    "                \"S3DataSource\": {\n",
    "                    \"S3DataType\": \"S3Prefix\",\n",
    "                    \"S3Uri\": f\"{bucket_path}/{prefix}/validation.parquet/\",\n",
    "                    \"S3DataDistributionType\": \"FullyReplicated\",\n",
    "                }\n",
    "            },\n",
    "            \"ContentType\": \"application/x-parquet\",\n",
    "            \"CompressionType\": \"None\",\n",
    "        },\n",
    "    ],\n",
    "}\n",
    "\n",
    "print(\n",
    "    f\"Creating a training job with name: {training_job_name}. It will take between 5 and 6 minutes to complete.\"\n",
    ")\n",
    "client.create_training_job(**create_training_params)\n",
    "\n",
    "status = client.describe_training_job(TrainingJobName=training_job_name)[\"TrainingJobStatus\"]\n",
    "print(status)\n",
    "while status != \"Completed\" and status != \"Failed\":\n",
    "    time.sleep(60)\n",
    "    status = client.describe_training_job(TrainingJobName=training_job_name)[\"TrainingJobStatus\"]\n",
    "    print(status)"
   ]
  },
  {
   "cell_type": "markdown",
   "id": "a9b767a0-14cd-47d3-a098-960be2717cc7",
   "metadata": {},
   "source": [
    "## Register SageMaker Model to Model Group"
   ]
  },
  {
   "cell_type": "code",
   "execution_count": 136,
   "id": "ad4a0f49-7012-4158-a551-ef313093e85c",
   "metadata": {
    "tags": []
   },
   "outputs": [],
   "source": [
    "%%local \n",
    "\n",
    "# Specify the model source\n",
    "model_url = \"s3://sagemaker-us-east-2-850751315356/vedjain-deltalake-2022/lending_club/sagemaker-xg-boost/single-xgboost/xgboost-parquet-loans-training-2023-05-02-20-00-11/output/model.tar.gz\"\n",
    "model_package_group_name = \"LendingClub-BadLoans-BinaryClassification\"\n",
    "modelpackage_inference_specification =  {\n",
    "    \"InferenceSpecification\": {\n",
    "      \"Containers\": [\n",
    "         {\n",
    "            \"Image\": '257758044811.dkr.ecr.us-east-2.amazonaws.com/sagemaker-xgboost:1.7-1',\n",
    "\t    \"ModelDataUrl\": model_url\n",
    "         }\n",
    "      ],\n",
    "      \"SupportedContentTypes\": [ \"application/x-parquet\" ],\n",
    "      \"SupportedResponseMIMETypes\": [ \"application/x-parquet\" ],\n",
    "   }\n",
    " }\n",
    "create_model_package_input_dict = {\n",
    "    \"ModelPackageGroupName\" : model_package_group_name,\n",
    "    \"ModelPackageDescription\" : \"Model to predict if the loan will turn out bad or good\",\n",
    "    \"ModelApprovalStatus\" : \"PendingManualApproval\"\n",
    "}\n",
    "create_model_package_input_dict.update(modelpackage_inference_specification)"
   ]
  },
  {
   "cell_type": "code",
   "execution_count": 137,
   "id": "80edad9b-124b-4df8-8410-4478ff3d1a83",
   "metadata": {
    "tags": []
   },
   "outputs": [
    {
     "name": "stdout",
     "output_type": "stream",
     "text": [
      "ModelPackage Version ARN : arn:aws:sagemaker:us-east-2:850751315356:model-package/lendingclub-badloans-binaryclassification/4\n"
     ]
    }
   ],
   "source": [
    "%%local\n",
    "create_model_package_response = client.create_model_package(**create_model_package_input_dict)\n",
    "model_package_arn = create_model_package_response[\"ModelPackageArn\"]\n",
    "print('ModelPackage Version ARN : {}'.format(model_package_arn))"
   ]
  },
  {
   "cell_type": "code",
   "execution_count": null,
   "id": "d1b8bc74-385d-49f7-9a30-a22065529c0b",
   "metadata": {},
   "outputs": [],
   "source": []
  }
 ],
 "metadata": {
  "availableInstances": [
   {
    "_defaultOrder": 0,
    "_isFastLaunch": true,
    "category": "General purpose",
    "gpuNum": 0,
    "hideHardwareSpecs": false,
    "memoryGiB": 4,
    "name": "ml.t3.medium",
    "vcpuNum": 2
   },
   {
    "_defaultOrder": 1,
    "_isFastLaunch": false,
    "category": "General purpose",
    "gpuNum": 0,
    "hideHardwareSpecs": false,
    "memoryGiB": 8,
    "name": "ml.t3.large",
    "vcpuNum": 2
   },
   {
    "_defaultOrder": 2,
    "_isFastLaunch": false,
    "category": "General purpose",
    "gpuNum": 0,
    "hideHardwareSpecs": false,
    "memoryGiB": 16,
    "name": "ml.t3.xlarge",
    "vcpuNum": 4
   },
   {
    "_defaultOrder": 3,
    "_isFastLaunch": false,
    "category": "General purpose",
    "gpuNum": 0,
    "hideHardwareSpecs": false,
    "memoryGiB": 32,
    "name": "ml.t3.2xlarge",
    "vcpuNum": 8
   },
   {
    "_defaultOrder": 4,
    "_isFastLaunch": true,
    "category": "General purpose",
    "gpuNum": 0,
    "hideHardwareSpecs": false,
    "memoryGiB": 8,
    "name": "ml.m5.large",
    "vcpuNum": 2
   },
   {
    "_defaultOrder": 5,
    "_isFastLaunch": false,
    "category": "General purpose",
    "gpuNum": 0,
    "hideHardwareSpecs": false,
    "memoryGiB": 16,
    "name": "ml.m5.xlarge",
    "vcpuNum": 4
   },
   {
    "_defaultOrder": 6,
    "_isFastLaunch": false,
    "category": "General purpose",
    "gpuNum": 0,
    "hideHardwareSpecs": false,
    "memoryGiB": 32,
    "name": "ml.m5.2xlarge",
    "vcpuNum": 8
   },
   {
    "_defaultOrder": 7,
    "_isFastLaunch": false,
    "category": "General purpose",
    "gpuNum": 0,
    "hideHardwareSpecs": false,
    "memoryGiB": 64,
    "name": "ml.m5.4xlarge",
    "vcpuNum": 16
   },
   {
    "_defaultOrder": 8,
    "_isFastLaunch": false,
    "category": "General purpose",
    "gpuNum": 0,
    "hideHardwareSpecs": false,
    "memoryGiB": 128,
    "name": "ml.m5.8xlarge",
    "vcpuNum": 32
   },
   {
    "_defaultOrder": 9,
    "_isFastLaunch": false,
    "category": "General purpose",
    "gpuNum": 0,
    "hideHardwareSpecs": false,
    "memoryGiB": 192,
    "name": "ml.m5.12xlarge",
    "vcpuNum": 48
   },
   {
    "_defaultOrder": 10,
    "_isFastLaunch": false,
    "category": "General purpose",
    "gpuNum": 0,
    "hideHardwareSpecs": false,
    "memoryGiB": 256,
    "name": "ml.m5.16xlarge",
    "vcpuNum": 64
   },
   {
    "_defaultOrder": 11,
    "_isFastLaunch": false,
    "category": "General purpose",
    "gpuNum": 0,
    "hideHardwareSpecs": false,
    "memoryGiB": 384,
    "name": "ml.m5.24xlarge",
    "vcpuNum": 96
   },
   {
    "_defaultOrder": 12,
    "_isFastLaunch": false,
    "category": "General purpose",
    "gpuNum": 0,
    "hideHardwareSpecs": false,
    "memoryGiB": 8,
    "name": "ml.m5d.large",
    "vcpuNum": 2
   },
   {
    "_defaultOrder": 13,
    "_isFastLaunch": false,
    "category": "General purpose",
    "gpuNum": 0,
    "hideHardwareSpecs": false,
    "memoryGiB": 16,
    "name": "ml.m5d.xlarge",
    "vcpuNum": 4
   },
   {
    "_defaultOrder": 14,
    "_isFastLaunch": false,
    "category": "General purpose",
    "gpuNum": 0,
    "hideHardwareSpecs": false,
    "memoryGiB": 32,
    "name": "ml.m5d.2xlarge",
    "vcpuNum": 8
   },
   {
    "_defaultOrder": 15,
    "_isFastLaunch": false,
    "category": "General purpose",
    "gpuNum": 0,
    "hideHardwareSpecs": false,
    "memoryGiB": 64,
    "name": "ml.m5d.4xlarge",
    "vcpuNum": 16
   },
   {
    "_defaultOrder": 16,
    "_isFastLaunch": false,
    "category": "General purpose",
    "gpuNum": 0,
    "hideHardwareSpecs": false,
    "memoryGiB": 128,
    "name": "ml.m5d.8xlarge",
    "vcpuNum": 32
   },
   {
    "_defaultOrder": 17,
    "_isFastLaunch": false,
    "category": "General purpose",
    "gpuNum": 0,
    "hideHardwareSpecs": false,
    "memoryGiB": 192,
    "name": "ml.m5d.12xlarge",
    "vcpuNum": 48
   },
   {
    "_defaultOrder": 18,
    "_isFastLaunch": false,
    "category": "General purpose",
    "gpuNum": 0,
    "hideHardwareSpecs": false,
    "memoryGiB": 256,
    "name": "ml.m5d.16xlarge",
    "vcpuNum": 64
   },
   {
    "_defaultOrder": 19,
    "_isFastLaunch": false,
    "category": "General purpose",
    "gpuNum": 0,
    "hideHardwareSpecs": false,
    "memoryGiB": 384,
    "name": "ml.m5d.24xlarge",
    "vcpuNum": 96
   },
   {
    "_defaultOrder": 20,
    "_isFastLaunch": false,
    "category": "General purpose",
    "gpuNum": 0,
    "hideHardwareSpecs": true,
    "memoryGiB": 0,
    "name": "ml.geospatial.interactive",
    "supportedImageNames": [
     "sagemaker-geospatial-v1-0"
    ],
    "vcpuNum": 0
   },
   {
    "_defaultOrder": 21,
    "_isFastLaunch": true,
    "category": "Compute optimized",
    "gpuNum": 0,
    "hideHardwareSpecs": false,
    "memoryGiB": 4,
    "name": "ml.c5.large",
    "vcpuNum": 2
   },
   {
    "_defaultOrder": 22,
    "_isFastLaunch": false,
    "category": "Compute optimized",
    "gpuNum": 0,
    "hideHardwareSpecs": false,
    "memoryGiB": 8,
    "name": "ml.c5.xlarge",
    "vcpuNum": 4
   },
   {
    "_defaultOrder": 23,
    "_isFastLaunch": false,
    "category": "Compute optimized",
    "gpuNum": 0,
    "hideHardwareSpecs": false,
    "memoryGiB": 16,
    "name": "ml.c5.2xlarge",
    "vcpuNum": 8
   },
   {
    "_defaultOrder": 24,
    "_isFastLaunch": false,
    "category": "Compute optimized",
    "gpuNum": 0,
    "hideHardwareSpecs": false,
    "memoryGiB": 32,
    "name": "ml.c5.4xlarge",
    "vcpuNum": 16
   },
   {
    "_defaultOrder": 25,
    "_isFastLaunch": false,
    "category": "Compute optimized",
    "gpuNum": 0,
    "hideHardwareSpecs": false,
    "memoryGiB": 72,
    "name": "ml.c5.9xlarge",
    "vcpuNum": 36
   },
   {
    "_defaultOrder": 26,
    "_isFastLaunch": false,
    "category": "Compute optimized",
    "gpuNum": 0,
    "hideHardwareSpecs": false,
    "memoryGiB": 96,
    "name": "ml.c5.12xlarge",
    "vcpuNum": 48
   },
   {
    "_defaultOrder": 27,
    "_isFastLaunch": false,
    "category": "Compute optimized",
    "gpuNum": 0,
    "hideHardwareSpecs": false,
    "memoryGiB": 144,
    "name": "ml.c5.18xlarge",
    "vcpuNum": 72
   },
   {
    "_defaultOrder": 28,
    "_isFastLaunch": false,
    "category": "Compute optimized",
    "gpuNum": 0,
    "hideHardwareSpecs": false,
    "memoryGiB": 192,
    "name": "ml.c5.24xlarge",
    "vcpuNum": 96
   },
   {
    "_defaultOrder": 29,
    "_isFastLaunch": true,
    "category": "Accelerated computing",
    "gpuNum": 1,
    "hideHardwareSpecs": false,
    "memoryGiB": 16,
    "name": "ml.g4dn.xlarge",
    "vcpuNum": 4
   },
   {
    "_defaultOrder": 30,
    "_isFastLaunch": false,
    "category": "Accelerated computing",
    "gpuNum": 1,
    "hideHardwareSpecs": false,
    "memoryGiB": 32,
    "name": "ml.g4dn.2xlarge",
    "vcpuNum": 8
   },
   {
    "_defaultOrder": 31,
    "_isFastLaunch": false,
    "category": "Accelerated computing",
    "gpuNum": 1,
    "hideHardwareSpecs": false,
    "memoryGiB": 64,
    "name": "ml.g4dn.4xlarge",
    "vcpuNum": 16
   },
   {
    "_defaultOrder": 32,
    "_isFastLaunch": false,
    "category": "Accelerated computing",
    "gpuNum": 1,
    "hideHardwareSpecs": false,
    "memoryGiB": 128,
    "name": "ml.g4dn.8xlarge",
    "vcpuNum": 32
   },
   {
    "_defaultOrder": 33,
    "_isFastLaunch": false,
    "category": "Accelerated computing",
    "gpuNum": 4,
    "hideHardwareSpecs": false,
    "memoryGiB": 192,
    "name": "ml.g4dn.12xlarge",
    "vcpuNum": 48
   },
   {
    "_defaultOrder": 34,
    "_isFastLaunch": false,
    "category": "Accelerated computing",
    "gpuNum": 1,
    "hideHardwareSpecs": false,
    "memoryGiB": 256,
    "name": "ml.g4dn.16xlarge",
    "vcpuNum": 64
   },
   {
    "_defaultOrder": 35,
    "_isFastLaunch": false,
    "category": "Accelerated computing",
    "gpuNum": 1,
    "hideHardwareSpecs": false,
    "memoryGiB": 61,
    "name": "ml.p3.2xlarge",
    "vcpuNum": 8
   },
   {
    "_defaultOrder": 36,
    "_isFastLaunch": false,
    "category": "Accelerated computing",
    "gpuNum": 4,
    "hideHardwareSpecs": false,
    "memoryGiB": 244,
    "name": "ml.p3.8xlarge",
    "vcpuNum": 32
   },
   {
    "_defaultOrder": 37,
    "_isFastLaunch": false,
    "category": "Accelerated computing",
    "gpuNum": 8,
    "hideHardwareSpecs": false,
    "memoryGiB": 488,
    "name": "ml.p3.16xlarge",
    "vcpuNum": 64
   },
   {
    "_defaultOrder": 38,
    "_isFastLaunch": false,
    "category": "Accelerated computing",
    "gpuNum": 8,
    "hideHardwareSpecs": false,
    "memoryGiB": 768,
    "name": "ml.p3dn.24xlarge",
    "vcpuNum": 96
   },
   {
    "_defaultOrder": 39,
    "_isFastLaunch": false,
    "category": "Memory Optimized",
    "gpuNum": 0,
    "hideHardwareSpecs": false,
    "memoryGiB": 16,
    "name": "ml.r5.large",
    "vcpuNum": 2
   },
   {
    "_defaultOrder": 40,
    "_isFastLaunch": false,
    "category": "Memory Optimized",
    "gpuNum": 0,
    "hideHardwareSpecs": false,
    "memoryGiB": 32,
    "name": "ml.r5.xlarge",
    "vcpuNum": 4
   },
   {
    "_defaultOrder": 41,
    "_isFastLaunch": false,
    "category": "Memory Optimized",
    "gpuNum": 0,
    "hideHardwareSpecs": false,
    "memoryGiB": 64,
    "name": "ml.r5.2xlarge",
    "vcpuNum": 8
   },
   {
    "_defaultOrder": 42,
    "_isFastLaunch": false,
    "category": "Memory Optimized",
    "gpuNum": 0,
    "hideHardwareSpecs": false,
    "memoryGiB": 128,
    "name": "ml.r5.4xlarge",
    "vcpuNum": 16
   },
   {
    "_defaultOrder": 43,
    "_isFastLaunch": false,
    "category": "Memory Optimized",
    "gpuNum": 0,
    "hideHardwareSpecs": false,
    "memoryGiB": 256,
    "name": "ml.r5.8xlarge",
    "vcpuNum": 32
   },
   {
    "_defaultOrder": 44,
    "_isFastLaunch": false,
    "category": "Memory Optimized",
    "gpuNum": 0,
    "hideHardwareSpecs": false,
    "memoryGiB": 384,
    "name": "ml.r5.12xlarge",
    "vcpuNum": 48
   },
   {
    "_defaultOrder": 45,
    "_isFastLaunch": false,
    "category": "Memory Optimized",
    "gpuNum": 0,
    "hideHardwareSpecs": false,
    "memoryGiB": 512,
    "name": "ml.r5.16xlarge",
    "vcpuNum": 64
   },
   {
    "_defaultOrder": 46,
    "_isFastLaunch": false,
    "category": "Memory Optimized",
    "gpuNum": 0,
    "hideHardwareSpecs": false,
    "memoryGiB": 768,
    "name": "ml.r5.24xlarge",
    "vcpuNum": 96
   },
   {
    "_defaultOrder": 47,
    "_isFastLaunch": false,
    "category": "Accelerated computing",
    "gpuNum": 1,
    "hideHardwareSpecs": false,
    "memoryGiB": 16,
    "name": "ml.g5.xlarge",
    "vcpuNum": 4
   },
   {
    "_defaultOrder": 48,
    "_isFastLaunch": false,
    "category": "Accelerated computing",
    "gpuNum": 1,
    "hideHardwareSpecs": false,
    "memoryGiB": 32,
    "name": "ml.g5.2xlarge",
    "vcpuNum": 8
   },
   {
    "_defaultOrder": 49,
    "_isFastLaunch": false,
    "category": "Accelerated computing",
    "gpuNum": 1,
    "hideHardwareSpecs": false,
    "memoryGiB": 64,
    "name": "ml.g5.4xlarge",
    "vcpuNum": 16
   },
   {
    "_defaultOrder": 50,
    "_isFastLaunch": false,
    "category": "Accelerated computing",
    "gpuNum": 1,
    "hideHardwareSpecs": false,
    "memoryGiB": 128,
    "name": "ml.g5.8xlarge",
    "vcpuNum": 32
   },
   {
    "_defaultOrder": 51,
    "_isFastLaunch": false,
    "category": "Accelerated computing",
    "gpuNum": 1,
    "hideHardwareSpecs": false,
    "memoryGiB": 256,
    "name": "ml.g5.16xlarge",
    "vcpuNum": 64
   },
   {
    "_defaultOrder": 52,
    "_isFastLaunch": false,
    "category": "Accelerated computing",
    "gpuNum": 4,
    "hideHardwareSpecs": false,
    "memoryGiB": 192,
    "name": "ml.g5.12xlarge",
    "vcpuNum": 48
   },
   {
    "_defaultOrder": 53,
    "_isFastLaunch": false,
    "category": "Accelerated computing",
    "gpuNum": 4,
    "hideHardwareSpecs": false,
    "memoryGiB": 384,
    "name": "ml.g5.24xlarge",
    "vcpuNum": 96
   },
   {
    "_defaultOrder": 54,
    "_isFastLaunch": false,
    "category": "Accelerated computing",
    "gpuNum": 8,
    "hideHardwareSpecs": false,
    "memoryGiB": 768,
    "name": "ml.g5.48xlarge",
    "vcpuNum": 192
   }
  ],
  "instance_type": "ml.m5.large",
  "kernelspec": {
   "display_name": "PySpark (SparkMagic)",
   "language": "python",
   "name": "pysparkkernel__SAGEMAKER_INTERNAL__arn:aws:sagemaker:us-east-2:429704687514:image/sagemaker-sparkmagic"
  },
  "language_info": {
   "codemirror_mode": {
    "name": "python",
    "version": 3
   },
   "file_extension": ".py",
   "mimetype": "text/x-python",
   "name": "pyspark",
   "pygments_lexer": "python3"
  }
 },
 "nbformat": 4,
 "nbformat_minor": 5
}
