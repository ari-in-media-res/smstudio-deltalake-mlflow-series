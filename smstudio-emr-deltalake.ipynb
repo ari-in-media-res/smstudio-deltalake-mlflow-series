{
 "cells": [
  {
   "cell_type": "code",
   "execution_count": 7,
   "id": "22ddd794-442d-4e1b-88b9-09dd12a18788",
   "metadata": {
    "tags": []
   },
   "outputs": [
    {
     "name": "stdout",
     "output_type": "stream",
     "text": [
      "The sagemaker_studio_analytics_extension.magics extension is already loaded. To reload it, use:\n",
      "  %reload_ext sagemaker_studio_analytics_extension.magics\n",
      "Successfully read emr cluster(j-2Z2SHZQU1R6XH) details\n",
      "Initiating EMR connection..\n",
      "Starting Spark application\n"
     ]
    },
    {
     "data": {
      "text/html": [
       "<table>\n",
       "<tr><th>ID</th><th>YARN Application ID</th><th>Kind</th><th>State</th><th>Spark UI</th><th>Driver log</th><th>User</th><th>Current session?</th></tr><tr><td>1</td><td>application_1682606921310_0003</td><td>pyspark</td><td>idle</td><td><a target=\"_blank\" href=\"http://ip-10-0-20-56.us-east-2.compute.internal:20888/proxy/application_1682606921310_0003/\">Link</a></td><td><a target=\"_blank\" href=\"http://ip-10-0-20-226.us-east-2.compute.internal:8042/node/containerlogs/container_1682606921310_0003_01_000001/livy\">Link</a></td><td>None</td><td>✔</td></tr></table>"
      ],
      "text/plain": [
       "<IPython.core.display.HTML object>"
      ]
     },
     "metadata": {},
     "output_type": "display_data"
    },
    {
     "data": {
      "application/vnd.jupyter.widget-view+json": {
       "model_id": "",
       "version_major": 2,
       "version_minor": 0
      },
      "text/plain": [
       "FloatProgress(value=0.0, bar_style='info', description='Progress:', layout=Layout(height='25px', width='50%'),…"
      ]
     },
     "metadata": {},
     "output_type": "display_data"
    },
    {
     "name": "stdout",
     "output_type": "stream",
     "text": [
      "SparkSession available as 'spark'.\n",
      "{\"namespace\": \"sagemaker-analytics\", \"cluster_id\": \"j-2Z2SHZQU1R6XH\", \"error_message\": null, \"success\": true, \"service\": \"emr\", \"operation\": \"connect\"}\n"
     ]
    }
   ],
   "source": [
    "%load_ext sagemaker_studio_analytics_extension.magics\n",
    "%sm_analytics emr connect --cluster-id j-2Z2SHZQU1R6XH --auth-type None   "
   ]
  },
  {
   "cell_type": "code",
   "execution_count": 8,
   "id": "1d5eab5b",
   "metadata": {
    "tags": []
   },
   "outputs": [
    {
     "data": {
      "application/vnd.jupyter.widget-view+json": {
       "model_id": "",
       "version_major": 2,
       "version_minor": 0
      },
      "text/plain": [
       "FloatProgress(value=0.0, bar_style='info', description='Progress:', layout=Layout(height='25px', width='50%'),…"
      ]
     },
     "metadata": {},
     "output_type": "display_data"
    }
   ],
   "source": [
    "from pyspark.sql import SparkSession"
   ]
  },
  {
   "cell_type": "markdown",
   "id": "02dc0d3a",
   "metadata": {},
   "source": [
    "### Adding Delta Jar package alaongside S3 dependencies and configurations to the notebook\n",
    "set up configuration with the correct version of Delta Lake that is compatible with Spark or PySpark."
   ]
  },
  {
   "cell_type": "code",
   "execution_count": 9,
   "id": "f7e4222f",
   "metadata": {
    "tags": []
   },
   "outputs": [
    {
     "name": "stdout",
     "output_type": "stream",
     "text": [
      "Starting Spark application\n"
     ]
    },
    {
     "data": {
      "text/html": [
       "<table>\n",
       "<tr><th>ID</th><th>YARN Application ID</th><th>Kind</th><th>State</th><th>Spark UI</th><th>Driver log</th><th>User</th><th>Current session?</th></tr><tr><td>2</td><td>application_1682606921310_0004</td><td>pyspark</td><td>idle</td><td><a target=\"_blank\" href=\"http://ip-10-0-20-56.us-east-2.compute.internal:20888/proxy/application_1682606921310_0004/\">Link</a></td><td><a target=\"_blank\" href=\"http://ip-10-0-20-226.us-east-2.compute.internal:8042/node/containerlogs/container_1682606921310_0004_01_000001/livy\">Link</a></td><td>None</td><td>✔</td></tr></table>"
      ],
      "text/plain": [
       "<IPython.core.display.HTML object>"
      ]
     },
     "metadata": {},
     "output_type": "display_data"
    },
    {
     "data": {
      "application/vnd.jupyter.widget-view+json": {
       "model_id": "",
       "version_major": 2,
       "version_minor": 0
      },
      "text/plain": [
       "FloatProgress(value=0.0, bar_style='info', description='Progress:', layout=Layout(height='25px', width='50%'),…"
      ]
     },
     "metadata": {},
     "output_type": "display_data"
    },
    {
     "name": "stdout",
     "output_type": "stream",
     "text": [
      "SparkSession available as 'spark'.\n"
     ]
    },
    {
     "data": {
      "text/html": [
       "Current session configs: <tt>{'conf': {'spark.jars.packages': 'io.delta:delta-core_2.12:2.0.0', 'spark.sql.extensions': 'io.delta.sql.DeltaSparkSessionExtension', 'spark.sql.catalog.spark_catalog': 'org.apache.spark.sql.delta.catalog.DeltaCatalog'}, 'kind': 'pyspark'}</tt><br>"
      ],
      "text/plain": [
       "<IPython.core.display.HTML object>"
      ]
     },
     "metadata": {},
     "output_type": "display_data"
    },
    {
     "data": {
      "text/html": [
       "<table>\n",
       "<tr><th>ID</th><th>YARN Application ID</th><th>Kind</th><th>State</th><th>Spark UI</th><th>Driver log</th><th>User</th><th>Current session?</th></tr><tr><td>2</td><td>application_1682606921310_0004</td><td>pyspark</td><td>idle</td><td><a target=\"_blank\" href=\"http://ip-10-0-20-56.us-east-2.compute.internal:20888/proxy/application_1682606921310_0004/\">Link</a></td><td><a target=\"_blank\" href=\"http://ip-10-0-20-226.us-east-2.compute.internal:8042/node/containerlogs/container_1682606921310_0004_01_000001/livy\">Link</a></td><td>None</td><td>✔</td></tr></table>"
      ],
      "text/plain": [
       "<IPython.core.display.HTML object>"
      ]
     },
     "metadata": {},
     "output_type": "display_data"
    }
   ],
   "source": [
    "%%configure -f \n",
    "\n",
    "{\n",
    "  \"conf\": {\n",
    "    \"spark.jars.packages\": \"io.delta:delta-core_2.12:2.0.0\",\n",
    "    \"spark.sql.extensions\": \"io.delta.sql.DeltaSparkSessionExtension\",\n",
    "    \"spark.sql.catalog.spark_catalog\": \"org.apache.spark.sql.delta.catalog.DeltaCatalog\"\n",
    "  }\n",
    "}"
   ]
  },
  {
   "cell_type": "code",
   "execution_count": 10,
   "id": "3e48ade2",
   "metadata": {
    "tags": []
   },
   "outputs": [
    {
     "data": {
      "text/html": [
       "Current session configs: <tt>{'conf': {'spark.jars.packages': 'io.delta:delta-core_2.12:2.0.0', 'spark.sql.extensions': 'io.delta.sql.DeltaSparkSessionExtension', 'spark.sql.catalog.spark_catalog': 'org.apache.spark.sql.delta.catalog.DeltaCatalog'}, 'kind': 'pyspark'}</tt><br>"
      ],
      "text/plain": [
       "<IPython.core.display.HTML object>"
      ]
     },
     "metadata": {},
     "output_type": "display_data"
    },
    {
     "data": {
      "text/html": [
       "<table>\n",
       "<tr><th>ID</th><th>YARN Application ID</th><th>Kind</th><th>State</th><th>Spark UI</th><th>Driver log</th><th>User</th><th>Current session?</th></tr><tr><td>2</td><td>application_1682606921310_0004</td><td>pyspark</td><td>idle</td><td><a target=\"_blank\" href=\"http://ip-10-0-20-56.us-east-2.compute.internal:20888/proxy/application_1682606921310_0004/\">Link</a></td><td><a target=\"_blank\" href=\"http://ip-10-0-20-226.us-east-2.compute.internal:8042/node/containerlogs/container_1682606921310_0004_01_000001/livy\">Link</a></td><td>None</td><td>✔</td></tr></table>"
      ],
      "text/plain": [
       "<IPython.core.display.HTML object>"
      ]
     },
     "metadata": {},
     "output_type": "display_data"
    }
   ],
   "source": [
    "%%info"
   ]
  },
  {
   "cell_type": "code",
   "execution_count": 91,
   "id": "8d4b71a4",
   "metadata": {
    "tags": []
   },
   "outputs": [
    {
     "data": {
      "application/vnd.jupyter.widget-view+json": {
       "model_id": "",
       "version_major": 2,
       "version_minor": 0
      },
      "text/plain": [
       "FloatProgress(value=0.0, bar_style='info', description='Progress:', layout=Layout(height='25px', width='50%'),…"
      ]
     },
     "metadata": {},
     "output_type": "display_data"
    }
   ],
   "source": [
    "from delta.tables import *\n",
    "\n",
    "deltaHivePath = \"s3://sagemaker-us-east-2-850751315356/vedjain-deltalake-2022/delta-hive-table/\"\n",
    "deltaSparkPath = \"s3://sagemaker-us-east-2-850751315356/vedjain-deltalake-2022/delta-spark-table/\""
   ]
  },
  {
   "cell_type": "markdown",
   "id": "a40b7bfa",
   "metadata": {},
   "source": [
    "### Defining Methods to generate Json Data"
   ]
  },
  {
   "cell_type": "code",
   "execution_count": 60,
   "id": "47655220",
   "metadata": {
    "tags": []
   },
   "outputs": [
    {
     "data": {
      "application/vnd.jupyter.widget-view+json": {
       "model_id": "",
       "version_major": 2,
       "version_minor": 0
      },
      "text/plain": [
       "FloatProgress(value=0.0, bar_style='info', description='Progress:', layout=Layout(height='25px', width='50%'),…"
      ]
     },
     "metadata": {},
     "output_type": "display_data"
    }
   ],
   "source": [
    "from datetime import datetime\n",
    "\n",
    "def get_json_data(start, count, dest):\n",
    "    time_stamp = datetime.now().strftime('%Y-%m-%d %H:%M:%S')\n",
    "    data = [{\n",
    "        'trip_id': i,\n",
    "        'tstamp': time_stamp,\n",
    "        'route_id': chr(65 + (i % 10)),\n",
    "        'destination': dest[i % 10]\n",
    "    } for i in range(start, start + count)]\n",
    "    return data\n",
    "\n",
    "def create_json_df(spark, data):\n",
    "    sc = spark.sparkContext\n",
    "    return spark.read.json(sc.parallelize(data))"
   ]
  },
  {
   "cell_type": "markdown",
   "id": "94c02b7a",
   "metadata": {},
   "source": [
    "### Creating Spark dataframe from trip data"
   ]
  },
  {
   "cell_type": "code",
   "execution_count": 62,
   "id": "2d120b46",
   "metadata": {
    "tags": []
   },
   "outputs": [
    {
     "data": {
      "application/vnd.jupyter.widget-view+json": {
       "model_id": "",
       "version_major": 2,
       "version_minor": 0
      },
      "text/plain": [
       "FloatProgress(value=0.0, bar_style='info', description='Progress:', layout=Layout(height='25px', width='50%'),…"
      ]
     },
     "metadata": {},
     "output_type": "display_data"
    },
    {
     "name": "stdout",
     "output_type": "stream",
     "text": [
      "2000000\n",
      "+-------------+--------+-------+-------------------+\n",
      "|  destination|route_id|trip_id|             tstamp|\n",
      "+-------------+--------+-------+-------------------+\n",
      "|      Seattle|       A|      0|2023-04-27 16:25:35|\n",
      "|     New York|       B|      1|2023-04-27 16:25:35|\n",
      "|   New Jersey|       C|      2|2023-04-27 16:25:35|\n",
      "|  Los Angeles|       D|      3|2023-04-27 16:25:35|\n",
      "|    Las Vagas|       E|      4|2023-04-27 16:25:35|\n",
      "|       Tucson|       F|      5|2023-04-27 16:25:35|\n",
      "| Washinton DC|       G|      6|2023-04-27 16:25:35|\n",
      "| Philadelphia|       H|      7|2023-04-27 16:25:35|\n",
      "|        Miami|       I|      8|2023-04-27 16:25:35|\n",
      "|San Francisco|       J|      9|2023-04-27 16:25:35|\n",
      "|      Seattle|       A|     10|2023-04-27 16:25:35|\n",
      "|     New York|       B|     11|2023-04-27 16:25:35|\n",
      "|   New Jersey|       C|     12|2023-04-27 16:25:35|\n",
      "|  Los Angeles|       D|     13|2023-04-27 16:25:35|\n",
      "|    Las Vagas|       E|     14|2023-04-27 16:25:35|\n",
      "|       Tucson|       F|     15|2023-04-27 16:25:35|\n",
      "| Washinton DC|       G|     16|2023-04-27 16:25:35|\n",
      "| Philadelphia|       H|     17|2023-04-27 16:25:35|\n",
      "|        Miami|       I|     18|2023-04-27 16:25:35|\n",
      "|San Francisco|       J|     19|2023-04-27 16:25:35|\n",
      "+-------------+--------+-------+-------------------+\n",
      "only showing top 20 rows"
     ]
    }
   ],
   "source": [
    "dest = [\"Seattle\", \"New York\", \"New Jersey\", \"Los Angeles\", \"Las Vagas\", \n",
    "        \"Tucson\", \"Washinton DC\", \"Philadelphia\", \"Miami\", \"San Francisco\"]\n",
    "\n",
    "df1 = create_json_df(spark, get_json_data(0, 2000000, dest))\n",
    "print(df1.count())\n",
    "df1.show()"
   ]
  },
  {
   "cell_type": "code",
   "execution_count": 63,
   "id": "df2ce8a3",
   "metadata": {
    "tags": []
   },
   "outputs": [
    {
     "data": {
      "application/vnd.jupyter.widget-view+json": {
       "model_id": "",
       "version_major": 2,
       "version_minor": 0
      },
      "text/plain": [
       "FloatProgress(value=0.0, bar_style='info', description='Progress:', layout=Layout(height='25px', width='50%'),…"
      ]
     },
     "metadata": {},
     "output_type": "display_data"
    },
    {
     "name": "stdout",
     "output_type": "stream",
     "text": [
      "root\n",
      " |-- destination: string (nullable = true)\n",
      " |-- route_id: string (nullable = true)\n",
      " |-- trip_id: long (nullable = true)\n",
      " |-- tstamp: string (nullable = true)"
     ]
    }
   ],
   "source": [
    "df1.printSchema()"
   ]
  },
  {
   "cell_type": "markdown",
   "id": "e7346fb7",
   "metadata": {},
   "source": [
    "### Saving the data frame in Delta format in S3"
   ]
  },
  {
   "cell_type": "code",
   "execution_count": 64,
   "id": "cfb9f473",
   "metadata": {
    "scrolled": true,
    "tags": []
   },
   "outputs": [
    {
     "data": {
      "application/vnd.jupyter.widget-view+json": {
       "model_id": "",
       "version_major": 2,
       "version_minor": 0
      },
      "text/plain": [
       "FloatProgress(value=0.0, bar_style='info', description='Progress:', layout=Layout(height='25px', width='50%'),…"
      ]
     },
     "metadata": {},
     "output_type": "display_data"
    }
   ],
   "source": [
    "df1.write.mode(\"overwrite\").format(\"delta\").partitionBy(\"route_id\").save(deltaHivePath)"
   ]
  },
  {
   "cell_type": "markdown",
   "id": "b0bf9842",
   "metadata": {},
   "source": [
    "### Review Delta Lake data using Spark SQL temporary view"
   ]
  },
  {
   "cell_type": "code",
   "execution_count": 65,
   "id": "bbb6bf4b",
   "metadata": {
    "tags": []
   },
   "outputs": [
    {
     "data": {
      "application/vnd.jupyter.widget-view+json": {
       "model_id": "",
       "version_major": 2,
       "version_minor": 0
      },
      "text/plain": [
       "FloatProgress(value=0.0, bar_style='info', description='Progress:', layout=Layout(height='25px', width='50%'),…"
      ]
     },
     "metadata": {},
     "output_type": "display_data"
    },
    {
     "name": "stdout",
     "output_type": "stream",
     "text": [
      "+--------+\n",
      "|count(1)|\n",
      "+--------+\n",
      "| 2000000|\n",
      "+--------+\n",
      "\n",
      "+-----------+--------+-------+-------------------+\n",
      "|destination|route_id|trip_id|             tstamp|\n",
      "+-----------+--------+-------+-------------------+\n",
      "|    Seattle|       A| 499720|2023-04-27 16:25:35|\n",
      "|    Seattle|       A| 499730|2023-04-27 16:25:35|\n",
      "|    Seattle|       A| 499740|2023-04-27 16:25:35|\n",
      "|    Seattle|       A| 499750|2023-04-27 16:25:35|\n",
      "|    Seattle|       A| 499760|2023-04-27 16:25:35|\n",
      "+-----------+--------+-------+-------------------+\n",
      "\n",
      "+------------+\n",
      "|max(trip_id)|\n",
      "+------------+\n",
      "|     1999999|\n",
      "+------------+"
     ]
    }
   ],
   "source": [
    "spark.read.format(\"delta\").load(deltaHivePath).createOrReplaceTempView(\"temp_trip_table\")\n",
    "\n",
    "spark.sql(\"SELECT count(*) FROM temp_trip_table\").show()\n",
    "spark.sql(\"SELECT * FROM temp_trip_table LIMIT 5\").show()\n",
    "spark.sql(\"SELECT max(trip_id) FROM temp_trip_table\").show()"
   ]
  },
  {
   "cell_type": "markdown",
   "id": "e7fe1407",
   "metadata": {},
   "source": [
    "### Now lets create manifest files for accessing this delta storage data from Athena as table"
   ]
  },
  {
   "cell_type": "code",
   "execution_count": 66,
   "id": "08ec1d0c",
   "metadata": {
    "tags": []
   },
   "outputs": [
    {
     "data": {
      "application/vnd.jupyter.widget-view+json": {
       "model_id": "",
       "version_major": 2,
       "version_minor": 0
      },
      "text/plain": [
       "FloatProgress(value=0.0, bar_style='info', description='Progress:', layout=Layout(height='25px', width='50%'),…"
      ]
     },
     "metadata": {},
     "output_type": "display_data"
    }
   ],
   "source": [
    "deltaTable = DeltaTable.forPath(spark, deltaHivePath)\n",
    "deltaTable.generate(\"symlink_format_manifest\")"
   ]
  },
  {
   "cell_type": "markdown",
   "id": "f08634b6",
   "metadata": {},
   "source": [
    "### Creating a Spark table in Glue Data Catalog with same data"
   ]
  },
  {
   "cell_type": "code",
   "execution_count": 81,
   "id": "9208f260",
   "metadata": {
    "tags": []
   },
   "outputs": [
    {
     "data": {
      "application/vnd.jupyter.widget-view+json": {
       "model_id": "",
       "version_major": 2,
       "version_minor": 0
      },
      "text/plain": [
       "FloatProgress(value=0.0, bar_style='info', description='Progress:', layout=Layout(height='25px', width='50%'),…"
      ]
     },
     "metadata": {},
     "output_type": "display_data"
    }
   ],
   "source": [
    "%%sql -q\n",
    "DROP DATABASE IF EXISTS vedjain_delta_db CASCADE"
   ]
  },
  {
   "cell_type": "code",
   "execution_count": 82,
   "id": "f54c1cf8-88d5-4c54-a26f-88bd68385873",
   "metadata": {
    "tags": []
   },
   "outputs": [
    {
     "data": {
      "application/vnd.jupyter.widget-view+json": {
       "model_id": "",
       "version_major": 2,
       "version_minor": 0
      },
      "text/plain": [
       "FloatProgress(value=0.0, bar_style='info', description='Progress:', layout=Layout(height='25px', width='50%'),…"
      ]
     },
     "metadata": {},
     "output_type": "display_data"
    }
   ],
   "source": [
    "%%sql -q\n",
    "CREATE DATABASE IF NOT EXISTS vedjain_delta_db LOCATION 's3://sagemaker-us-east-2-850751315356/vedjain-deltalake-2022/delta-spark-table'"
   ]
  },
  {
   "cell_type": "code",
   "execution_count": 96,
   "id": "e208db31",
   "metadata": {
    "tags": []
   },
   "outputs": [
    {
     "data": {
      "application/vnd.jupyter.widget-view+json": {
       "model_id": "",
       "version_major": 2,
       "version_minor": 0
      },
      "text/plain": [
       "FloatProgress(value=0.0, bar_style='info', description='Progress:', layout=Layout(height='25px', width='50%'),…"
      ]
     },
     "metadata": {},
     "output_type": "display_data"
    }
   ],
   "source": [
    "deltaTable = \"vedjain_delta_db.delta_spark_table\""
   ]
  },
  {
   "cell_type": "code",
   "execution_count": 97,
   "id": "821e5596",
   "metadata": {
    "tags": []
   },
   "outputs": [
    {
     "data": {
      "application/vnd.jupyter.widget-view+json": {
       "model_id": "",
       "version_major": 2,
       "version_minor": 0
      },
      "text/plain": [
       "FloatProgress(value=0.0, bar_style='info', description='Progress:', layout=Layout(height='25px', width='50%'),…"
      ]
     },
     "metadata": {},
     "output_type": "display_data"
    }
   ],
   "source": [
    "df1.write.format(\"delta\").mode(\"overwrite\").partitionBy(\"route_id\").option(\"path\", deltaSparkPath).saveAsTable(deltaTable)"
   ]
  },
  {
   "cell_type": "code",
   "execution_count": 98,
   "id": "3a042d87",
   "metadata": {
    "tags": []
   },
   "outputs": [
    {
     "data": {
      "application/vnd.jupyter.widget-view+json": {
       "model_id": "",
       "version_major": 2,
       "version_minor": 0
      },
      "text/plain": [
       "FloatProgress(value=0.0, bar_style='info', description='Progress:', layout=Layout(height='25px', width='50%'),…"
      ]
     },
     "metadata": {},
     "output_type": "display_data"
    },
    {
     "name": "stdout",
     "output_type": "stream",
     "text": [
      "+----------------+-----------------+-----------+\n",
      "|       namespace|        tableName|isTemporary|\n",
      "+----------------+-----------------+-----------+\n",
      "|vedjain_delta_db|delta_spark_table|      false|\n",
      "|                |  temp_trip_table|       true|\n",
      "+----------------+-----------------+-----------+"
     ]
    }
   ],
   "source": [
    "spark.sql(\"use vedjain_delta_db\")\n",
    "spark.sql(\"show tables\").show(20)"
   ]
  },
  {
   "cell_type": "code",
   "execution_count": 99,
   "id": "c1842060",
   "metadata": {
    "tags": []
   },
   "outputs": [
    {
     "data": {
      "application/vnd.jupyter.widget-view+json": {
       "model_id": "",
       "version_major": 2,
       "version_minor": 0
      },
      "text/plain": [
       "FloatProgress(value=0.0, bar_style='info', description='Progress:', layout=Layout(height='25px', width='50%'),…"
      ]
     },
     "metadata": {},
     "output_type": "display_data"
    },
    {
     "name": "stdout",
     "output_type": "stream",
     "text": [
      "+--------+\n",
      "|count(1)|\n",
      "+--------+\n",
      "| 2000000|\n",
      "+--------+\n",
      "\n",
      "+------------+\n",
      "|max(trip_id)|\n",
      "+------------+\n",
      "|     1999999|\n",
      "+------------+\n",
      "\n",
      "+-----------+--------+-------+-------------------+\n",
      "|destination|route_id|trip_id|             tstamp|\n",
      "+-----------+--------+-------+-------------------+\n",
      "|    Seattle|       A| 499720|2023-04-27 16:25:35|\n",
      "|    Seattle|       A| 499730|2023-04-27 16:25:35|\n",
      "|    Seattle|       A| 499740|2023-04-27 16:25:35|\n",
      "|    Seattle|       A| 499750|2023-04-27 16:25:35|\n",
      "|    Seattle|       A| 499760|2023-04-27 16:25:35|\n",
      "|    Seattle|       A| 499770|2023-04-27 16:25:35|\n",
      "|    Seattle|       A| 499780|2023-04-27 16:25:35|\n",
      "|    Seattle|       A| 499790|2023-04-27 16:25:35|\n",
      "|    Seattle|       A| 499800|2023-04-27 16:25:35|\n",
      "|    Seattle|       A| 499810|2023-04-27 16:25:35|\n",
      "+-----------+--------+-------+-------------------+\n",
      "\n",
      "+--------+\n",
      "|route_id|\n",
      "+--------+\n",
      "|       A|\n",
      "|       B|\n",
      "|       C|\n",
      "|       D|\n",
      "|       E|\n",
      "|       F|\n",
      "|       G|\n",
      "|       H|\n",
      "|       I|\n",
      "|       J|\n",
      "+--------+"
     ]
    },
    {
     "data": {
      "application/vnd.jupyter.widget-view+json": {
       "model_id": "",
       "version_major": 2,
       "version_minor": 0
      },
      "text/plain": [
       "FloatProgress(value=0.0, bar_style='info', description='Progress:', layout=Layout(height='25px', width='50%'),…"
      ]
     },
     "metadata": {},
     "output_type": "display_data"
    }
   ],
   "source": [
    "%%spark -c spark -o delta_trip_op\n",
    "\n",
    "delta_trip_op = spark.sql(\"select count(*) from vedjain_delta_db.delta_spark_table\")\n",
    "delta_trip_op.show()\n",
    "\n",
    "delta_trip_op = spark.sql(\"select max(trip_id) from vedjain_delta_db.delta_spark_table\")\n",
    "delta_trip_op.show()\n",
    "\n",
    "delta_trip_op = spark.sql(\"select destination, route_id, trip_id, tstamp from vedjain_delta_db.delta_spark_table limit 10\")\n",
    "delta_trip_op.show()\n",
    "\n",
    "delta_trip_op = spark.sql(\"select distinct route_id from vedjain_delta_db.delta_spark_table order by route_id\")\n",
    "delta_trip_op.show()"
   ]
  },
  {
   "cell_type": "markdown",
   "id": "2ef5cefb",
   "metadata": {},
   "source": [
    "### This point forward only Athena table will be used for data processing"
   ]
  },
  {
   "cell_type": "markdown",
   "id": "af7b51bc",
   "metadata": {},
   "source": [
    "### Lets INSERT some new rows to the Athena table with schema evolution"
   ]
  },
  {
   "cell_type": "code",
   "execution_count": 100,
   "id": "6fe31077",
   "metadata": {
    "tags": []
   },
   "outputs": [
    {
     "data": {
      "application/vnd.jupyter.widget-view+json": {
       "model_id": "",
       "version_major": 2,
       "version_minor": 0
      },
      "text/plain": [
       "FloatProgress(value=0.0, bar_style='info', description='Progress:', layout=Layout(height='25px', width='50%'),…"
      ]
     },
     "metadata": {},
     "output_type": "display_data"
    }
   ],
   "source": [
    "from datetime import datetime\n",
    "\n",
    "def get_json_data_update(start, count, dest, origin):\n",
    "    time_stamp = datetime.now().strftime('%Y-%m-%d %H:%M:%S')\n",
    "    data = [{\n",
    "        'trip_id': i,\n",
    "        'tstamp': time_stamp,\n",
    "        'route_id': chr(65 + (i % 10)),\n",
    "        'destination': dest[i % 10],\n",
    "        'origin': origin[i % 10]\n",
    "    } for i in range(start, start + count)]\n",
    "    return data\n",
    "\n",
    "def create_json_df_update(spark, data):\n",
    "    sc = spark.sparkContext\n",
    "    return spark.read.json(sc.parallelize(data))"
   ]
  },
  {
   "cell_type": "code",
   "execution_count": 101,
   "id": "9a1026b2",
   "metadata": {
    "tags": []
   },
   "outputs": [
    {
     "data": {
      "application/vnd.jupyter.widget-view+json": {
       "model_id": "",
       "version_major": 2,
       "version_minor": 0
      },
      "text/plain": [
       "FloatProgress(value=0.0, bar_style='info', description='Progress:', layout=Layout(height='25px', width='50%'),…"
      ]
     },
     "metadata": {},
     "output_type": "display_data"
    },
    {
     "name": "stdout",
     "output_type": "stream",
     "text": [
      "20\n",
      "+-----------+-------------+--------+-------+-------------------+\n",
      "|destination|       origin|route_id|trip_id|             tstamp|\n",
      "+-----------+-------------+--------+-------+-------------------+\n",
      "|   Syracuse|      Seattle|       A|2000000|2023-04-27 16:33:04|\n",
      "|   Syracuse|     New York|       B|2000001|2023-04-27 16:33:04|\n",
      "|   Syracuse|   New Jersey|       C|2000002|2023-04-27 16:33:04|\n",
      "|   Syracuse|  Los Angeles|       D|2000003|2023-04-27 16:33:04|\n",
      "|   Syracuse|    Las Vagas|       E|2000004|2023-04-27 16:33:04|\n",
      "|   Syracuse|       Tucson|       F|2000005|2023-04-27 16:33:04|\n",
      "|   Syracuse| Washinton DC|       G|2000006|2023-04-27 16:33:04|\n",
      "|   Syracuse| Philadelphia|       H|2000007|2023-04-27 16:33:04|\n",
      "|   Syracuse|        Miami|       I|2000008|2023-04-27 16:33:04|\n",
      "|   Syracuse|San Francisco|       J|2000009|2023-04-27 16:33:04|\n",
      "|   Syracuse|      Seattle|       A|2000010|2023-04-27 16:33:04|\n",
      "|   Syracuse|     New York|       B|2000011|2023-04-27 16:33:04|\n",
      "|   Syracuse|   New Jersey|       C|2000012|2023-04-27 16:33:04|\n",
      "|   Syracuse|  Los Angeles|       D|2000013|2023-04-27 16:33:04|\n",
      "|   Syracuse|    Las Vagas|       E|2000014|2023-04-27 16:33:04|\n",
      "|   Syracuse|       Tucson|       F|2000015|2023-04-27 16:33:04|\n",
      "|   Syracuse| Washinton DC|       G|2000016|2023-04-27 16:33:04|\n",
      "|   Syracuse| Philadelphia|       H|2000017|2023-04-27 16:33:04|\n",
      "|   Syracuse|        Miami|       I|2000018|2023-04-27 16:33:04|\n",
      "|   Syracuse|San Francisco|       J|2000019|2023-04-27 16:33:04|\n",
      "+-----------+-------------+--------+-------+-------------------+"
     ]
    }
   ],
   "source": [
    "insert_dest = ['Syracuse', 'Syracuse', 'Syracuse', 'Syracuse', 'Syracuse',\n",
    "               'Syracuse', 'Syracuse', 'Syracuse', 'Syracuse', 'Syracuse']\n",
    "insert_origin = [\"Seattle\", \"New York\", \"New Jersey\", \"Los Angeles\", \"Las Vagas\", \n",
    "                 \"Tucson\", \"Washinton DC\", \"Philadelphia\", \"Miami\", \"San Francisco\"]\n",
    "\n",
    "tripUpdates = create_json_df_update(spark, get_json_data_update(2000000, 20, insert_dest, insert_origin))\n",
    "print(tripUpdates.count())\n",
    "tripUpdates.show()"
   ]
  },
  {
   "cell_type": "code",
   "execution_count": 102,
   "id": "1463d036",
   "metadata": {
    "tags": []
   },
   "outputs": [
    {
     "data": {
      "application/vnd.jupyter.widget-view+json": {
       "model_id": "",
       "version_major": 2,
       "version_minor": 0
      },
      "text/plain": [
       "FloatProgress(value=0.0, bar_style='info', description='Progress:', layout=Layout(height='25px', width='50%'),…"
      ]
     },
     "metadata": {},
     "output_type": "display_data"
    },
    {
     "name": "stdout",
     "output_type": "stream",
     "text": [
      "root\n",
      " |-- destination: string (nullable = true)\n",
      " |-- origin: string (nullable = true)\n",
      " |-- route_id: string (nullable = true)\n",
      " |-- trip_id: long (nullable = true)\n",
      " |-- tstamp: string (nullable = true)"
     ]
    }
   ],
   "source": [
    "tripUpdates.printSchema()"
   ]
  },
  {
   "cell_type": "code",
   "execution_count": 103,
   "id": "5392cee7",
   "metadata": {
    "tags": []
   },
   "outputs": [
    {
     "data": {
      "application/vnd.jupyter.widget-view+json": {
       "model_id": "",
       "version_major": 2,
       "version_minor": 0
      },
      "text/plain": [
       "FloatProgress(value=0.0, bar_style='info', description='Progress:', layout=Layout(height='25px', width='50%'),…"
      ]
     },
     "metadata": {},
     "output_type": "display_data"
    }
   ],
   "source": [
    "tripUpdates.write.format(\"delta\").mode(\"append\").option(\"mergeSchema\", \"true\").partitionBy(\"route_id\").save(deltaHivePath)"
   ]
  },
  {
   "cell_type": "markdown",
   "id": "603ebb67",
   "metadata": {},
   "source": [
    "### Now lets query the updated data using Spark SQL"
   ]
  },
  {
   "cell_type": "code",
   "execution_count": 94,
   "id": "cdf9f6c2",
   "metadata": {
    "tags": []
   },
   "outputs": [
    {
     "data": {
      "application/vnd.jupyter.widget-view+json": {
       "model_id": "",
       "version_major": 2,
       "version_minor": 0
      },
      "text/plain": [
       "FloatProgress(value=0.0, bar_style='info', description='Progress:', layout=Layout(height='25px', width='50%'),…"
      ]
     },
     "metadata": {},
     "output_type": "display_data"
    },
    {
     "name": "stdout",
     "output_type": "stream",
     "text": [
      "+--------+\n",
      "|count(1)|\n",
      "+--------+\n",
      "| 2000020|\n",
      "+--------+"
     ]
    }
   ],
   "source": [
    "spark.read.format(\"delta\").load(deltaHivePath).createOrReplaceTempView(\"temp_trip_table\")\n",
    "spark.sql(\"SELECT count(*) FROM temp_trip_table\").show()"
   ]
  },
  {
   "cell_type": "code",
   "execution_count": 95,
   "id": "ae236e6d",
   "metadata": {
    "tags": []
   },
   "outputs": [
    {
     "data": {
      "application/vnd.jupyter.widget-view+json": {
       "model_id": "",
       "version_major": 2,
       "version_minor": 0
      },
      "text/plain": [
       "FloatProgress(value=0.0, bar_style='info', description='Progress:', layout=Layout(height='25px', width='50%'),…"
      ]
     },
     "metadata": {},
     "output_type": "display_data"
    },
    {
     "name": "stdout",
     "output_type": "stream",
     "text": [
      "+-------------+--------+-------+-------------------+-------------+\n",
      "|  destination|route_id|trip_id|             tstamp|       origin|\n",
      "+-------------+--------+-------+-------------------+-------------+\n",
      "| Philadelphia|       H|1999997|2023-04-27 16:25:35|         null|\n",
      "|        Miami|       I|1999998|2023-04-27 16:25:35|         null|\n",
      "|San Francisco|       J|1999999|2023-04-27 16:25:35|         null|\n",
      "|     Syracuse|       A|2000000|2023-04-27 16:30:18|      Seattle|\n",
      "|     Syracuse|       B|2000001|2023-04-27 16:30:18|     New York|\n",
      "|     Syracuse|       C|2000002|2023-04-27 16:30:18|   New Jersey|\n",
      "|     Syracuse|       D|2000003|2023-04-27 16:30:18|  Los Angeles|\n",
      "|     Syracuse|       E|2000004|2023-04-27 16:30:18|    Las Vagas|\n",
      "|     Syracuse|       F|2000005|2023-04-27 16:30:18|       Tucson|\n",
      "|     Syracuse|       G|2000006|2023-04-27 16:30:18| Washinton DC|\n",
      "|     Syracuse|       H|2000007|2023-04-27 16:30:18| Philadelphia|\n",
      "|     Syracuse|       I|2000008|2023-04-27 16:30:18|        Miami|\n",
      "|     Syracuse|       J|2000009|2023-04-27 16:30:18|San Francisco|\n",
      "|     Syracuse|       A|2000010|2023-04-27 16:30:18|      Seattle|\n",
      "|     Syracuse|       B|2000011|2023-04-27 16:30:18|     New York|\n",
      "|     Syracuse|       C|2000012|2023-04-27 16:30:18|   New Jersey|\n",
      "|     Syracuse|       D|2000013|2023-04-27 16:30:18|  Los Angeles|\n",
      "|     Syracuse|       E|2000014|2023-04-27 16:30:18|    Las Vagas|\n",
      "|     Syracuse|       F|2000015|2023-04-27 16:30:18|       Tucson|\n",
      "|     Syracuse|       G|2000016|2023-04-27 16:30:18| Washinton DC|\n",
      "+-------------+--------+-------+-------------------+-------------+\n",
      "only showing top 20 rows"
     ]
    }
   ],
   "source": [
    "spark.sql(\"SELECT * FROM temp_trip_table WHERE trip_id > 1999996 ORDER BY trip_id\").show() "
   ]
  },
  {
   "cell_type": "markdown",
   "id": "cbed1e29",
   "metadata": {},
   "source": [
    "### Now Updating the Manifest files for Athena"
   ]
  },
  {
   "cell_type": "code",
   "execution_count": 104,
   "id": "539a2118",
   "metadata": {
    "tags": []
   },
   "outputs": [
    {
     "data": {
      "application/vnd.jupyter.widget-view+json": {
       "model_id": "",
       "version_major": 2,
       "version_minor": 0
      },
      "text/plain": [
       "FloatProgress(value=0.0, bar_style='info', description='Progress:', layout=Layout(height='25px', width='50%'),…"
      ]
     },
     "metadata": {},
     "output_type": "display_data"
    }
   ],
   "source": [
    "deltaTable = DeltaTable.forPath(spark, deltaHivePath)\n",
    "deltaTable.generate(\"symlink_format_manifest\")"
   ]
  },
  {
   "cell_type": "markdown",
   "id": "175a5d64",
   "metadata": {},
   "source": [
    "### Now lets UPDATE some data"
   ]
  },
  {
   "cell_type": "code",
   "execution_count": 105,
   "id": "05245aff",
   "metadata": {
    "tags": []
   },
   "outputs": [
    {
     "data": {
      "application/vnd.jupyter.widget-view+json": {
       "model_id": "",
       "version_major": 2,
       "version_minor": 0
      },
      "text/plain": [
       "FloatProgress(value=0.0, bar_style='info', description='Progress:', layout=Layout(height='25px', width='50%'),…"
      ]
     },
     "metadata": {},
     "output_type": "display_data"
    },
    {
     "name": "stdout",
     "output_type": "stream",
     "text": [
      "+--------------+\n",
      "|Count_Syracuse|\n",
      "+--------------+\n",
      "|            40|\n",
      "+--------------+\n",
      "\n",
      "+------------------+\n",
      "|Count_Philadelphia|\n",
      "+------------------+\n",
      "|            200000|\n",
      "+------------------+"
     ]
    }
   ],
   "source": [
    "spark.read.format(\"delta\").load(deltaHivePath).createOrReplaceTempView(\"temp_trip_table\")\n",
    "spark.sql(\"SELECT count(*) AS Count_Syracuse FROM temp_trip_table WHERE destination = 'Syracuse'\").show()\n",
    "spark.sql(\"SELECT count(*) AS Count_Philadelphia FROM temp_trip_table WHERE destination = 'Philadelphia'\").show()"
   ]
  },
  {
   "cell_type": "code",
   "execution_count": 106,
   "id": "1fa06e0b",
   "metadata": {
    "tags": []
   },
   "outputs": [
    {
     "data": {
      "application/vnd.jupyter.widget-view+json": {
       "model_id": "",
       "version_major": 2,
       "version_minor": 0
      },
      "text/plain": [
       "FloatProgress(value=0.0, bar_style='info', description='Progress:', layout=Layout(height='25px', width='50%'),…"
      ]
     },
     "metadata": {},
     "output_type": "display_data"
    }
   ],
   "source": [
    "deltaTable = DeltaTable.forPath(spark, deltaHivePath)\n",
    "deltaTable.update(\"destination = 'Syracuse'\", {\"destination\": \"'Philadelphia'\"})"
   ]
  },
  {
   "cell_type": "code",
   "execution_count": 107,
   "id": "cf197c09",
   "metadata": {
    "tags": []
   },
   "outputs": [
    {
     "data": {
      "application/vnd.jupyter.widget-view+json": {
       "model_id": "",
       "version_major": 2,
       "version_minor": 0
      },
      "text/plain": [
       "FloatProgress(value=0.0, bar_style='info', description='Progress:', layout=Layout(height='25px', width='50%'),…"
      ]
     },
     "metadata": {},
     "output_type": "display_data"
    }
   ],
   "source": [
    "deltaTable = DeltaTable.forPath(spark, deltaHivePath)\n",
    "deltaTable.generate(\"symlink_format_manifest\")"
   ]
  },
  {
   "cell_type": "code",
   "execution_count": 108,
   "id": "e6702886",
   "metadata": {
    "tags": []
   },
   "outputs": [
    {
     "data": {
      "application/vnd.jupyter.widget-view+json": {
       "model_id": "",
       "version_major": 2,
       "version_minor": 0
      },
      "text/plain": [
       "FloatProgress(value=0.0, bar_style='info', description='Progress:', layout=Layout(height='25px', width='50%'),…"
      ]
     },
     "metadata": {},
     "output_type": "display_data"
    },
    {
     "name": "stdout",
     "output_type": "stream",
     "text": [
      "+--------------+\n",
      "|Count_Syracuse|\n",
      "+--------------+\n",
      "|             0|\n",
      "+--------------+\n",
      "\n",
      "+------------------+\n",
      "|Count_Philadelphia|\n",
      "+------------------+\n",
      "|            200040|\n",
      "+------------------+"
     ]
    }
   ],
   "source": [
    "spark.read.format(\"delta\").load(deltaHivePath).createOrReplaceTempView(\"temp_trip_table\")\n",
    "spark.sql(\"SELECT count(*) AS Count_Syracuse FROM temp_trip_table WHERE destination = 'Syracuse'\").show()\n",
    "spark.sql(\"SELECT count(*) AS Count_Philadelphia FROM temp_trip_table WHERE destination = 'Philadelphia'\").show()"
   ]
  },
  {
   "cell_type": "markdown",
   "id": "adf4ffa6",
   "metadata": {},
   "source": [
    "### Now lets DELETE some data"
   ]
  },
  {
   "cell_type": "code",
   "execution_count": 38,
   "id": "7c5651e4",
   "metadata": {
    "tags": []
   },
   "outputs": [
    {
     "data": {
      "application/vnd.jupyter.widget-view+json": {
       "model_id": "",
       "version_major": 2,
       "version_minor": 0
      },
      "text/plain": [
       "FloatProgress(value=0.0, bar_style='info', description='Progress:', layout=Layout(height='25px', width='50%'),…"
      ]
     },
     "metadata": {},
     "output_type": "display_data"
    },
    {
     "name": "stdout",
     "output_type": "stream",
     "text": [
      "+-----------+\n",
      "|Count_total|\n",
      "+-----------+\n",
      "|    2000020|\n",
      "+-----------+\n",
      "\n",
      "+--------+\n",
      "|Count_NJ|\n",
      "+--------+\n",
      "|  200000|\n",
      "+--------+"
     ]
    }
   ],
   "source": [
    "spark.read.format(\"delta\").load(deltaHivePath).createOrReplaceTempView(\"temp_trip_table\")\n",
    "spark.sql(\"SELECT count(*) as Count_total FROM temp_trip_table\").show()\n",
    "spark.sql(\"SELECT count(*) as Count_NJ FROM temp_trip_table WHERE destination = 'New Jersey'\").show()"
   ]
  },
  {
   "cell_type": "code",
   "execution_count": 27,
   "id": "47b93acd",
   "metadata": {
    "execution": {
     "iopub.execute_input": "2022-01-31T06:16:01.728434Z",
     "iopub.status.busy": "2022-01-31T06:16:01.728194Z",
     "iopub.status.idle": "2022-01-31T06:16:09.062175Z",
     "shell.execute_reply": "2022-01-31T06:16:09.061230Z",
     "shell.execute_reply.started": "2022-01-31T06:16:01.728408Z"
    }
   },
   "outputs": [
    {
     "data": {
      "application/vnd.jupyter.widget-view+json": {
       "model_id": "065c6db25a654b02812a92049a6a2952",
       "version_major": 2,
       "version_minor": 0
      },
      "text/plain": [
       "VBox()"
      ]
     },
     "metadata": {},
     "output_type": "display_data"
    },
    {
     "data": {
      "application/vnd.jupyter.widget-view+json": {
       "model_id": "",
       "version_major": 2,
       "version_minor": 0
      },
      "text/plain": [
       "FloatProgress(value=0.0, bar_style='info', description='Progress:', layout=Layout(height='25px', width='50%'),…"
      ]
     },
     "metadata": {},
     "output_type": "display_data"
    }
   ],
   "source": [
    "deltaTable = DeltaTable.forPath(spark, deltaHivePath)\n",
    "deltaTable.delete(\"destination = 'New Jersey'\")"
   ]
  },
  {
   "cell_type": "code",
   "execution_count": 28,
   "id": "40ff5c0b",
   "metadata": {
    "execution": {
     "iopub.execute_input": "2022-01-31T06:20:06.044268Z",
     "iopub.status.busy": "2022-01-31T06:20:06.044036Z",
     "iopub.status.idle": "2022-01-31T06:20:11.345094Z",
     "shell.execute_reply": "2022-01-31T06:20:11.344191Z",
     "shell.execute_reply.started": "2022-01-31T06:20:06.044243Z"
    }
   },
   "outputs": [
    {
     "data": {
      "application/vnd.jupyter.widget-view+json": {
       "model_id": "2efd58389f52421f8c5087b80daba6d6",
       "version_major": 2,
       "version_minor": 0
      },
      "text/plain": [
       "VBox()"
      ]
     },
     "metadata": {},
     "output_type": "display_data"
    },
    {
     "data": {
      "application/vnd.jupyter.widget-view+json": {
       "model_id": "",
       "version_major": 2,
       "version_minor": 0
      },
      "text/plain": [
       "FloatProgress(value=0.0, bar_style='info', description='Progress:', layout=Layout(height='25px', width='50%'),…"
      ]
     },
     "metadata": {},
     "output_type": "display_data"
    }
   ],
   "source": [
    "deltaTable.generate(\"symlink_format_manifest\")"
   ]
  },
  {
   "cell_type": "code",
   "execution_count": 29,
   "id": "10f784cc",
   "metadata": {
    "execution": {
     "iopub.execute_input": "2022-01-31T06:16:32.784037Z",
     "iopub.status.busy": "2022-01-31T06:16:32.783754Z",
     "iopub.status.idle": "2022-01-31T06:16:38.080838Z",
     "shell.execute_reply": "2022-01-31T06:16:38.080134Z",
     "shell.execute_reply.started": "2022-01-31T06:16:32.784008Z"
    }
   },
   "outputs": [
    {
     "data": {
      "application/vnd.jupyter.widget-view+json": {
       "model_id": "69400b655b874a35911b308b4e1a0ff6",
       "version_major": 2,
       "version_minor": 0
      },
      "text/plain": [
       "VBox()"
      ]
     },
     "metadata": {},
     "output_type": "display_data"
    },
    {
     "data": {
      "application/vnd.jupyter.widget-view+json": {
       "model_id": "",
       "version_major": 2,
       "version_minor": 0
      },
      "text/plain": [
       "FloatProgress(value=0.0, bar_style='info', description='Progress:', layout=Layout(height='25px', width='50%'),…"
      ]
     },
     "metadata": {},
     "output_type": "display_data"
    },
    {
     "name": "stdout",
     "output_type": "stream",
     "text": [
      "+-----------+\n",
      "|Count_total|\n",
      "+-----------+\n",
      "|    1800020|\n",
      "+-----------+\n",
      "\n",
      "+--------+\n",
      "|Count_NJ|\n",
      "+--------+\n",
      "|       0|\n",
      "+--------+"
     ]
    }
   ],
   "source": [
    "spark.read.format(\"delta\").load(deltaHivePath).createOrReplaceTempView(\"temp_trip_table\")\n",
    "spark.sql(\"SELECT count(*) as Count_total FROM temp_trip_table\").show()\n",
    "spark.sql(\"SELECT count(*) as Count_NJ FROM temp_trip_table WHERE destination = 'New Jersey'\").show()"
   ]
  },
  {
   "cell_type": "markdown",
   "id": "c9abad85",
   "metadata": {},
   "source": [
    "### Lets do some UPSERT now"
   ]
  },
  {
   "cell_type": "code",
   "execution_count": 30,
   "id": "37abccc1",
   "metadata": {
    "execution": {
     "iopub.execute_input": "2022-01-31T06:17:26.632160Z",
     "iopub.status.busy": "2022-01-31T06:17:26.631930Z",
     "iopub.status.idle": "2022-01-31T06:17:29.929804Z",
     "shell.execute_reply": "2022-01-31T06:17:29.929062Z",
     "shell.execute_reply.started": "2022-01-31T06:17:26.632137Z"
    }
   },
   "outputs": [
    {
     "data": {
      "application/vnd.jupyter.widget-view+json": {
       "model_id": "cc5802be9c8447978c0b306ad80a1538",
       "version_major": 2,
       "version_minor": 0
      },
      "text/plain": [
       "VBox()"
      ]
     },
     "metadata": {},
     "output_type": "display_data"
    },
    {
     "data": {
      "application/vnd.jupyter.widget-view+json": {
       "model_id": "",
       "version_major": 2,
       "version_minor": 0
      },
      "text/plain": [
       "FloatProgress(value=0.0, bar_style='info', description='Progress:', layout=Layout(height='25px', width='50%'),…"
      ]
     },
     "metadata": {},
     "output_type": "display_data"
    },
    {
     "name": "stdout",
     "output_type": "stream",
     "text": [
      "+------------+\n",
      "|max(trip_id)|\n",
      "+------------+\n",
      "|     2000019|\n",
      "+------------+"
     ]
    }
   ],
   "source": [
    "spark.read.format(\"delta\").load(deltaHivePath).createOrReplaceTempView(\"temp_trip_table\")\n",
    "spark.sql(\"SELECT max(trip_id) FROM temp_trip_table\").show()"
   ]
  },
  {
   "cell_type": "code",
   "execution_count": 31,
   "id": "64e2ebc6",
   "metadata": {
    "execution": {
     "iopub.execute_input": "2022-01-31T06:18:23.236388Z",
     "iopub.status.busy": "2022-01-31T06:18:23.236157Z",
     "iopub.status.idle": "2022-01-31T06:18:26.518406Z",
     "shell.execute_reply": "2022-01-31T06:18:26.517774Z",
     "shell.execute_reply.started": "2022-01-31T06:18:23.236362Z"
    }
   },
   "outputs": [
    {
     "data": {
      "application/vnd.jupyter.widget-view+json": {
       "model_id": "63c9509d2d064ce99c8116c240034680",
       "version_major": 2,
       "version_minor": 0
      },
      "text/plain": [
       "VBox()"
      ]
     },
     "metadata": {},
     "output_type": "display_data"
    },
    {
     "data": {
      "application/vnd.jupyter.widget-view+json": {
       "model_id": "",
       "version_major": 2,
       "version_minor": 0
      },
      "text/plain": [
       "FloatProgress(value=0.0, bar_style='info', description='Progress:', layout=Layout(height='25px', width='50%'),…"
      ]
     },
     "metadata": {},
     "output_type": "display_data"
    },
    {
     "name": "stdout",
     "output_type": "stream",
     "text": [
      "+------------+--------+-------+-------------------+-------------+\n",
      "| destination|route_id|trip_id|             tstamp|       origin|\n",
      "+------------+--------+-------+-------------------+-------------+\n",
      "|Philadelphia|       F|2000015|2022-01-31 05:49:39|       Tucson|\n",
      "|Philadelphia|       G|2000016|2022-01-31 05:49:39| Washinton DC|\n",
      "|Philadelphia|       H|2000017|2022-01-31 05:49:39| Philadelphia|\n",
      "|Philadelphia|       I|2000018|2022-01-31 05:49:39|        Miami|\n",
      "|Philadelphia|       J|2000019|2022-01-31 05:49:39|San Francisco|\n",
      "+------------+--------+-------+-------------------+-------------+"
     ]
    }
   ],
   "source": [
    "spark.sql(\"SELECT * FROM temp_trip_table WHERE trip_id > 2000014 ORDER BY trip_id\").show()"
   ]
  },
  {
   "cell_type": "code",
   "execution_count": 32,
   "id": "a98f158a",
   "metadata": {
    "execution": {
     "iopub.execute_input": "2022-01-31T06:32:30.809562Z",
     "iopub.status.busy": "2022-01-31T06:32:30.809332Z",
     "iopub.status.idle": "2022-01-31T06:32:31.579059Z",
     "shell.execute_reply": "2022-01-31T06:32:31.578416Z",
     "shell.execute_reply.started": "2022-01-31T06:32:30.809537Z"
    },
    "tags": []
   },
   "outputs": [
    {
     "data": {
      "application/vnd.jupyter.widget-view+json": {
       "model_id": "31dc9b63248b4d73a46a5cbc5de3f01f",
       "version_major": 2,
       "version_minor": 0
      },
      "text/plain": [
       "VBox()"
      ]
     },
     "metadata": {},
     "output_type": "display_data"
    },
    {
     "data": {
      "application/vnd.jupyter.widget-view+json": {
       "model_id": "",
       "version_major": 2,
       "version_minor": 0
      },
      "text/plain": [
       "FloatProgress(value=0.0, bar_style='info', description='Progress:', layout=Layout(height='25px', width='50%'),…"
      ]
     },
     "metadata": {},
     "output_type": "display_data"
    },
    {
     "name": "stdout",
     "output_type": "stream",
     "text": [
      "10\n",
      "+-----------+-------+--------+-------+-------------------+\n",
      "|destination| origin|route_id|trip_id|             tstamp|\n",
      "+-----------+-------+--------+-------+-------------------+\n",
      "|     Vernon|Seattle|       F|2000015|2022-01-31 06:32:30|\n",
      "|    Winsted|Seattle|       G|2000016|2022-01-31 06:32:30|\n",
      "|   Westport|Seattle|       H|2000017|2022-01-31 06:32:30|\n",
      "|  Fairfield|Seattle|       I|2000018|2022-01-31 06:32:30|\n",
      "|   Stamford|Seattle|       J|2000019|2022-01-31 06:32:30|\n",
      "|       Avon|Seattle|       A|2000020|2022-01-31 06:32:30|\n",
      "|   Simsbury|Seattle|       B|2000021|2022-01-31 06:32:30|\n",
      "| Farmington|Seattle|       C|2000022|2022-01-31 06:32:30|\n",
      "|    Windsor|Seattle|       D|2000023|2022-01-31 06:32:30|\n",
      "|  Ellington|Seattle|       E|2000024|2022-01-31 06:32:30|\n",
      "+-----------+-------+--------+-------+-------------------+"
     ]
    }
   ],
   "source": [
    "insert_dest = ['Avon', 'Simsbury', 'Farmington', 'Windsor', 'Ellington',\n",
    "               'Vernon', 'Winsted', 'Westport', 'Fairfield', 'Stamford']\n",
    "insert_origin = [\"Seattle\", \"Seattle\", \"Seattle\", \"Seattle\", \"Seattle\", \n",
    "                 \"Seattle\", \"Seattle\", \"Seattle\", \"Seattle\", \"Seattle\"]\n",
    "\n",
    "\n",
    "tripUpdates1 = create_json_df_update(spark, get_json_data_update(2000015, 10, insert_dest, insert_origin))\n",
    "print(tripUpdates1.count())\n",
    "tripUpdates1.show()"
   ]
  },
  {
   "cell_type": "code",
   "execution_count": 33,
   "id": "aa1636fe",
   "metadata": {
    "execution": {
     "iopub.execute_input": "2022-01-31T06:35:01.013408Z",
     "iopub.status.busy": "2022-01-31T06:35:01.013178Z",
     "iopub.status.idle": "2022-01-31T06:35:14.780401Z",
     "shell.execute_reply": "2022-01-31T06:35:14.779623Z",
     "shell.execute_reply.started": "2022-01-31T06:35:01.013383Z"
    }
   },
   "outputs": [
    {
     "data": {
      "application/vnd.jupyter.widget-view+json": {
       "model_id": "714ff36311894016ad276743d371e582",
       "version_major": 2,
       "version_minor": 0
      },
      "text/plain": [
       "VBox()"
      ]
     },
     "metadata": {},
     "output_type": "display_data"
    },
    {
     "data": {
      "application/vnd.jupyter.widget-view+json": {
       "model_id": "",
       "version_major": 2,
       "version_minor": 0
      },
      "text/plain": [
       "FloatProgress(value=0.0, bar_style='info', description='Progress:', layout=Layout(height='25px', width='50%'),…"
      ]
     },
     "metadata": {},
     "output_type": "display_data"
    }
   ],
   "source": [
    "deltaTable = DeltaTable.forPath(spark, deltaHivePath)\n",
    "(deltaTable\n",
    ".alias('t')\n",
    ".merge(tripUpdates1.alias('s'), 't.trip_id = s.trip_id')\n",
    ".whenMatchedUpdateAll()\n",
    ".whenNotMatchedInsertAll()\n",
    ".execute())"
   ]
  },
  {
   "cell_type": "code",
   "execution_count": 34,
   "id": "7acbd06e",
   "metadata": {
    "execution": {
     "iopub.execute_input": "2022-01-31T06:36:24.397868Z",
     "iopub.status.busy": "2022-01-31T06:36:24.397629Z",
     "iopub.status.idle": "2022-01-31T06:36:27.679361Z",
     "shell.execute_reply": "2022-01-31T06:36:27.678504Z",
     "shell.execute_reply.started": "2022-01-31T06:36:24.397840Z"
    }
   },
   "outputs": [
    {
     "data": {
      "application/vnd.jupyter.widget-view+json": {
       "model_id": "e7b596e7064546bdb5f2774d96fcaae7",
       "version_major": 2,
       "version_minor": 0
      },
      "text/plain": [
       "VBox()"
      ]
     },
     "metadata": {},
     "output_type": "display_data"
    },
    {
     "data": {
      "application/vnd.jupyter.widget-view+json": {
       "model_id": "",
       "version_major": 2,
       "version_minor": 0
      },
      "text/plain": [
       "FloatProgress(value=0.0, bar_style='info', description='Progress:', layout=Layout(height='25px', width='50%'),…"
      ]
     },
     "metadata": {},
     "output_type": "display_data"
    },
    {
     "name": "stdout",
     "output_type": "stream",
     "text": [
      "+------------+--------+-------+-------------------+-----------+\n",
      "| destination|route_id|trip_id|             tstamp|     origin|\n",
      "+------------+--------+-------+-------------------+-----------+\n",
      "|Philadelphia|       B|2000011|2022-01-31 05:49:39|   New York|\n",
      "|Philadelphia|       C|2000012|2022-01-31 05:49:39| New Jersey|\n",
      "|Philadelphia|       D|2000013|2022-01-31 05:49:39|Los Angeles|\n",
      "|Philadelphia|       E|2000014|2022-01-31 05:49:39|  Las Vagas|\n",
      "|      Vernon|       F|2000015|2022-01-31 06:32:30|    Seattle|\n",
      "|     Winsted|       G|2000016|2022-01-31 06:32:30|    Seattle|\n",
      "|    Westport|       H|2000017|2022-01-31 06:32:30|    Seattle|\n",
      "|   Fairfield|       I|2000018|2022-01-31 06:32:30|    Seattle|\n",
      "|    Stamford|       J|2000019|2022-01-31 06:32:30|    Seattle|\n",
      "|        Avon|       A|2000020|2022-01-31 06:32:30|    Seattle|\n",
      "|    Simsbury|       B|2000021|2022-01-31 06:32:30|    Seattle|\n",
      "|  Farmington|       C|2000022|2022-01-31 06:32:30|    Seattle|\n",
      "|     Windsor|       D|2000023|2022-01-31 06:32:30|    Seattle|\n",
      "|   Ellington|       E|2000024|2022-01-31 06:32:30|    Seattle|\n",
      "+------------+--------+-------+-------------------+-----------+"
     ]
    }
   ],
   "source": [
    "spark.read.format(\"delta\").load(deltaHivePath).createOrReplaceTempView(\"temp_trip_table\")\n",
    "spark.sql(\"SELECT * FROM temp_trip_table WHERE trip_id > 2000010 ORDER BY trip_id\").show()"
   ]
  },
  {
   "cell_type": "markdown",
   "id": "e293ec5d",
   "metadata": {},
   "source": [
    "### Lets perform some time travel queries"
   ]
  },
  {
   "cell_type": "code",
   "execution_count": 35,
   "id": "ac355f02",
   "metadata": {
    "execution": {
     "iopub.execute_input": "2022-01-31T06:39:12.706196Z",
     "iopub.status.busy": "2022-01-31T06:39:12.705867Z",
     "iopub.status.idle": "2022-01-31T06:39:13.992985Z",
     "shell.execute_reply": "2022-01-31T06:39:13.992182Z",
     "shell.execute_reply.started": "2022-01-31T06:39:12.706154Z"
    }
   },
   "outputs": [
    {
     "data": {
      "application/vnd.jupyter.widget-view+json": {
       "model_id": "79554819cc06409f9ed4c10c91e1129a",
       "version_major": 2,
       "version_minor": 0
      },
      "text/plain": [
       "VBox()"
      ]
     },
     "metadata": {},
     "output_type": "display_data"
    },
    {
     "data": {
      "application/vnd.jupyter.widget-view+json": {
       "model_id": "",
       "version_major": 2,
       "version_minor": 0
      },
      "text/plain": [
       "FloatProgress(value=0.0, bar_style='info', description='Progress:', layout=Layout(height='25px', width='50%'),…"
      ]
     },
     "metadata": {},
     "output_type": "display_data"
    },
    {
     "name": "stdout",
     "output_type": "stream",
     "text": [
      "+-------+-------------------+---------+---------------------------------------------------------------------------------------------------------------------------------------------+\n",
      "|version|timestamp          |operation|operationParameters                                                                                                                          |\n",
      "+-------+-------------------+---------+---------------------------------------------------------------------------------------------------------------------------------------------+\n",
      "|4      |2022-01-31 06:35:13|MERGE    |[predicate -> (t.`trip_id` = s.`trip_id`), matchedPredicates -> [{\"actionType\":\"update\"}], notMatchedPredicates -> [{\"actionType\":\"insert\"}]]|\n",
      "|3      |2022-01-31 06:16:07|DELETE   |[predicate -> [\"(`destination` = 'New Jersey')\"]]                                                                                            |\n",
      "|2      |2022-01-31 06:08:53|UPDATE   |[predicate -> (destination#216 = Syracuse)]                                                                                                  |\n",
      "|1      |2022-01-31 05:50:17|WRITE    |[mode -> Append, partitionBy -> [\"route_id\"]]                                                                                                |\n",
      "|0      |2022-01-31 05:48:06|WRITE    |[mode -> Overwrite, partitionBy -> [\"route_id\"]]                                                                                             |\n",
      "+-------+-------------------+---------+---------------------------------------------------------------------------------------------------------------------------------------------+"
     ]
    }
   ],
   "source": [
    "(deltaTable\n",
    ".history(100)\n",
    ".select(\"version\", \"timestamp\", \"operation\", \"operationParameters\")\n",
    ".show(truncate=False))"
   ]
  },
  {
   "cell_type": "code",
   "execution_count": 36,
   "id": "1524d091",
   "metadata": {
    "execution": {
     "iopub.execute_input": "2022-01-31T06:41:18.010367Z",
     "iopub.status.busy": "2022-01-31T06:41:18.010119Z",
     "iopub.status.idle": "2022-01-31T06:41:21.302664Z",
     "shell.execute_reply": "2022-01-31T06:41:21.301945Z",
     "shell.execute_reply.started": "2022-01-31T06:41:18.010339Z"
    },
    "tags": []
   },
   "outputs": [
    {
     "data": {
      "application/vnd.jupyter.widget-view+json": {
       "model_id": "cb902eb9b3884ed2a6dd1c4a24902477",
       "version_major": 2,
       "version_minor": 0
      },
      "text/plain": [
       "VBox()"
      ]
     },
     "metadata": {},
     "output_type": "display_data"
    },
    {
     "data": {
      "application/vnd.jupyter.widget-view+json": {
       "model_id": "",
       "version_major": 2,
       "version_minor": 0
      },
      "text/plain": [
       "FloatProgress(value=0.0, bar_style='info', description='Progress:', layout=Layout(height='25px', width='50%'),…"
      ]
     },
     "metadata": {},
     "output_type": "display_data"
    },
    {
     "name": "stdout",
     "output_type": "stream",
     "text": [
      "[Row(destination='San Francisco', route_id='J', trip_id=749569, tstamp='2022-01-31 05:47:46'), Row(destination='San Francisco', route_id='J', trip_id=749579, tstamp='2022-01-31 05:47:46'), Row(destination='San Francisco', route_id='J', trip_id=749589, tstamp='2022-01-31 05:47:46'), Row(destination='San Francisco', route_id='J', trip_id=749599, tstamp='2022-01-31 05:47:46'), Row(destination='San Francisco', route_id='J', trip_id=749609, tstamp='2022-01-31 05:47:46')]"
     ]
    }
   ],
   "source": [
    "df_v0 = (spark.read\n",
    "         .format(\"delta\")\n",
    "         .option(\"timestampAsOf\", \"2022-01-31 05:48:06\") # timestamp after table creation\n",
    "         .load(deltaHivePath))\n",
    "df_v0.take(5)"
   ]
  },
  {
   "cell_type": "code",
   "execution_count": 37,
   "id": "1a4460c4",
   "metadata": {
    "execution": {
     "iopub.execute_input": "2022-01-31T06:43:02.094258Z",
     "iopub.status.busy": "2022-01-31T06:43:02.094028Z",
     "iopub.status.idle": "2022-01-31T06:43:05.419081Z",
     "shell.execute_reply": "2022-01-31T06:43:05.418346Z",
     "shell.execute_reply.started": "2022-01-31T06:43:02.094233Z"
    }
   },
   "outputs": [
    {
     "data": {
      "application/vnd.jupyter.widget-view+json": {
       "model_id": "7ef08994f5994b6ab91949cdec660064",
       "version_major": 2,
       "version_minor": 0
      },
      "text/plain": [
       "VBox()"
      ]
     },
     "metadata": {},
     "output_type": "display_data"
    },
    {
     "data": {
      "application/vnd.jupyter.widget-view+json": {
       "model_id": "",
       "version_major": 2,
       "version_minor": 0
      },
      "text/plain": [
       "FloatProgress(value=0.0, bar_style='info', description='Progress:', layout=Layout(height='25px', width='50%'),…"
      ]
     },
     "metadata": {},
     "output_type": "display_data"
    },
    {
     "name": "stdout",
     "output_type": "stream",
     "text": [
      "+-----------+--------+-------+------+\n",
      "|destination|route_id|trip_id|tstamp|\n",
      "+-----------+--------+-------+------+\n",
      "+-----------+--------+-------+------+"
     ]
    }
   ],
   "source": [
    "df_v0.createOrReplaceTempView(\"temp_trip_table_v0\")\n",
    "spark.sql(\"SELECT * FROM temp_trip_table_v0 WHERE trip_id >= 2000000 ORDER BY trip_id\").show()"
   ]
  },
  {
   "cell_type": "code",
   "execution_count": 38,
   "id": "f56e842b",
   "metadata": {
    "execution": {
     "iopub.execute_input": "2022-01-31T06:46:10.855227Z",
     "iopub.status.busy": "2022-01-31T06:46:10.855000Z",
     "iopub.status.idle": "2022-01-31T06:46:13.134290Z",
     "shell.execute_reply": "2022-01-31T06:46:13.133586Z",
     "shell.execute_reply.started": "2022-01-31T06:46:10.855203Z"
    }
   },
   "outputs": [
    {
     "data": {
      "application/vnd.jupyter.widget-view+json": {
       "model_id": "1808b03ec09b4343b5b69f8e3449a651",
       "version_major": 2,
       "version_minor": 0
      },
      "text/plain": [
       "VBox()"
      ]
     },
     "metadata": {},
     "output_type": "display_data"
    },
    {
     "data": {
      "application/vnd.jupyter.widget-view+json": {
       "model_id": "",
       "version_major": 2,
       "version_minor": 0
      },
      "text/plain": [
       "FloatProgress(value=0.0, bar_style='info', description='Progress:', layout=Layout(height='25px', width='50%'),…"
      ]
     },
     "metadata": {},
     "output_type": "display_data"
    },
    {
     "name": "stdout",
     "output_type": "stream",
     "text": [
      "[Row(destination='San Francisco', route_id='J', trip_id=749569, tstamp='2022-01-31 05:47:46', origin=None), Row(destination='San Francisco', route_id='J', trip_id=749579, tstamp='2022-01-31 05:47:46', origin=None), Row(destination='San Francisco', route_id='J', trip_id=749589, tstamp='2022-01-31 05:47:46', origin=None), Row(destination='San Francisco', route_id='J', trip_id=749599, tstamp='2022-01-31 05:47:46', origin=None), Row(destination='San Francisco', route_id='J', trip_id=749609, tstamp='2022-01-31 05:47:46', origin=None)]"
     ]
    }
   ],
   "source": [
    "df_v2 = (spark.read\n",
    "         .format(\"delta\")\n",
    "         .option(\"versionAsOf\", \"2\")\n",
    "         .load(deltaHivePath))\n",
    "df_v2.take(5)"
   ]
  },
  {
   "cell_type": "code",
   "execution_count": 39,
   "id": "fb64194a",
   "metadata": {
    "execution": {
     "iopub.execute_input": "2022-01-31T06:46:58.694581Z",
     "iopub.status.busy": "2022-01-31T06:46:58.694353Z",
     "iopub.status.idle": "2022-01-31T06:47:01.993791Z",
     "shell.execute_reply": "2022-01-31T06:47:01.992901Z",
     "shell.execute_reply.started": "2022-01-31T06:46:58.694557Z"
    }
   },
   "outputs": [
    {
     "data": {
      "application/vnd.jupyter.widget-view+json": {
       "model_id": "f00a26b28ec44454b09b2e90056a2678",
       "version_major": 2,
       "version_minor": 0
      },
      "text/plain": [
       "VBox()"
      ]
     },
     "metadata": {},
     "output_type": "display_data"
    },
    {
     "data": {
      "application/vnd.jupyter.widget-view+json": {
       "model_id": "",
       "version_major": 2,
       "version_minor": 0
      },
      "text/plain": [
       "FloatProgress(value=0.0, bar_style='info', description='Progress:', layout=Layout(height='25px', width='50%'),…"
      ]
     },
     "metadata": {},
     "output_type": "display_data"
    },
    {
     "name": "stdout",
     "output_type": "stream",
     "text": [
      "+------------+--------+-------+-------------------+-------------+\n",
      "| destination|route_id|trip_id|             tstamp|       origin|\n",
      "+------------+--------+-------+-------------------+-------------+\n",
      "|Philadelphia|       A|2000000|2022-01-31 05:49:39|      Seattle|\n",
      "|Philadelphia|       B|2000001|2022-01-31 05:49:39|     New York|\n",
      "|Philadelphia|       C|2000002|2022-01-31 05:49:39|   New Jersey|\n",
      "|Philadelphia|       D|2000003|2022-01-31 05:49:39|  Los Angeles|\n",
      "|Philadelphia|       E|2000004|2022-01-31 05:49:39|    Las Vagas|\n",
      "|Philadelphia|       F|2000005|2022-01-31 05:49:39|       Tucson|\n",
      "|Philadelphia|       G|2000006|2022-01-31 05:49:39| Washinton DC|\n",
      "|Philadelphia|       H|2000007|2022-01-31 05:49:39| Philadelphia|\n",
      "|Philadelphia|       I|2000008|2022-01-31 05:49:39|        Miami|\n",
      "|Philadelphia|       J|2000009|2022-01-31 05:49:39|San Francisco|\n",
      "|Philadelphia|       A|2000010|2022-01-31 05:49:39|      Seattle|\n",
      "|Philadelphia|       B|2000011|2022-01-31 05:49:39|     New York|\n",
      "|Philadelphia|       C|2000012|2022-01-31 05:49:39|   New Jersey|\n",
      "|Philadelphia|       D|2000013|2022-01-31 05:49:39|  Los Angeles|\n",
      "|Philadelphia|       E|2000014|2022-01-31 05:49:39|    Las Vagas|\n",
      "|Philadelphia|       F|2000015|2022-01-31 05:49:39|       Tucson|\n",
      "|Philadelphia|       G|2000016|2022-01-31 05:49:39| Washinton DC|\n",
      "|Philadelphia|       H|2000017|2022-01-31 05:49:39| Philadelphia|\n",
      "|Philadelphia|       I|2000018|2022-01-31 05:49:39|        Miami|\n",
      "|Philadelphia|       J|2000019|2022-01-31 05:49:39|San Francisco|\n",
      "+------------+--------+-------+-------------------+-------------+"
     ]
    }
   ],
   "source": [
    "df_v2.createOrReplaceTempView(\"temp_trip_table_v2\")\n",
    "spark.sql(\"SELECT * FROM temp_trip_table_v2 WHERE trip_id >= 2000000 ORDER BY trip_id\").show()"
   ]
  },
  {
   "cell_type": "code",
   "execution_count": 40,
   "id": "ee2af1f3",
   "metadata": {
    "execution": {
     "iopub.execute_input": "2022-01-31T06:47:58.970478Z",
     "iopub.status.busy": "2022-01-31T06:47:58.970252Z",
     "iopub.status.idle": "2022-01-31T06:48:02.258745Z",
     "shell.execute_reply": "2022-01-31T06:48:02.258158Z",
     "shell.execute_reply.started": "2022-01-31T06:47:58.970454Z"
    }
   },
   "outputs": [
    {
     "data": {
      "application/vnd.jupyter.widget-view+json": {
       "model_id": "8d8cc8f6475c42a09a7e3c96e0504d32",
       "version_major": 2,
       "version_minor": 0
      },
      "text/plain": [
       "VBox()"
      ]
     },
     "metadata": {},
     "output_type": "display_data"
    },
    {
     "data": {
      "application/vnd.jupyter.widget-view+json": {
       "model_id": "",
       "version_major": 2,
       "version_minor": 0
      },
      "text/plain": [
       "FloatProgress(value=0.0, bar_style='info', description='Progress:', layout=Layout(height='25px', width='50%'),…"
      ]
     },
     "metadata": {},
     "output_type": "display_data"
    },
    {
     "name": "stdout",
     "output_type": "stream",
     "text": [
      "[Row(destination='San Francisco', route_id='J', trip_id=749569, tstamp='2022-01-31 05:47:46', origin=None), Row(destination='San Francisco', route_id='J', trip_id=749579, tstamp='2022-01-31 05:47:46', origin=None), Row(destination='San Francisco', route_id='J', trip_id=749589, tstamp='2022-01-31 05:47:46', origin=None), Row(destination='San Francisco', route_id='J', trip_id=749599, tstamp='2022-01-31 05:47:46', origin=None), Row(destination='San Francisco', route_id='J', trip_id=749609, tstamp='2022-01-31 05:47:46', origin=None)]"
     ]
    }
   ],
   "source": [
    "df_v1 = (spark.read\n",
    "         .format(\"delta\")\n",
    "         .option(\"versionAsOf\", \"1\")\n",
    "         .load(deltaHivePath))\n",
    "df_v1.take(5)"
   ]
  },
  {
   "cell_type": "code",
   "execution_count": 41,
   "id": "5ccd3ac0",
   "metadata": {
    "execution": {
     "iopub.execute_input": "2022-01-31T06:48:18.626988Z",
     "iopub.status.busy": "2022-01-31T06:48:18.626760Z",
     "iopub.status.idle": "2022-01-31T06:48:20.931652Z",
     "shell.execute_reply": "2022-01-31T06:48:20.930893Z",
     "shell.execute_reply.started": "2022-01-31T06:48:18.626963Z"
    }
   },
   "outputs": [
    {
     "data": {
      "application/vnd.jupyter.widget-view+json": {
       "model_id": "7fc371d968d7474da9a4ab80c282d57d",
       "version_major": 2,
       "version_minor": 0
      },
      "text/plain": [
       "VBox()"
      ]
     },
     "metadata": {},
     "output_type": "display_data"
    },
    {
     "data": {
      "application/vnd.jupyter.widget-view+json": {
       "model_id": "",
       "version_major": 2,
       "version_minor": 0
      },
      "text/plain": [
       "FloatProgress(value=0.0, bar_style='info', description='Progress:', layout=Layout(height='25px', width='50%'),…"
      ]
     },
     "metadata": {},
     "output_type": "display_data"
    },
    {
     "name": "stdout",
     "output_type": "stream",
     "text": [
      "[Row(destination='San Francisco', route_id='J', trip_id=749569, tstamp='2022-01-31 05:47:46', origin=None), Row(destination='San Francisco', route_id='J', trip_id=749579, tstamp='2022-01-31 05:47:46', origin=None), Row(destination='San Francisco', route_id='J', trip_id=749589, tstamp='2022-01-31 05:47:46', origin=None), Row(destination='San Francisco', route_id='J', trip_id=749599, tstamp='2022-01-31 05:47:46', origin=None), Row(destination='San Francisco', route_id='J', trip_id=749609, tstamp='2022-01-31 05:47:46', origin=None)]"
     ]
    }
   ],
   "source": [
    "df_v3 = (spark.read\n",
    "         .format(\"delta\")\n",
    "         .option(\"versionAsOf\", \"3\")\n",
    "         .load(deltaHivePath))\n",
    "df_v3.take(5)"
   ]
  },
  {
   "cell_type": "code",
   "execution_count": 42,
   "id": "4d3863cd",
   "metadata": {
    "execution": {
     "iopub.execute_input": "2022-01-31T06:49:53.566723Z",
     "iopub.status.busy": "2022-01-31T06:49:53.566491Z",
     "iopub.status.idle": "2022-01-31T06:50:00.882904Z",
     "shell.execute_reply": "2022-01-31T06:50:00.881859Z",
     "shell.execute_reply.started": "2022-01-31T06:49:53.566698Z"
    }
   },
   "outputs": [
    {
     "data": {
      "application/vnd.jupyter.widget-view+json": {
       "model_id": "cd457bf264af4fa3821179fdaa40ea77",
       "version_major": 2,
       "version_minor": 0
      },
      "text/plain": [
       "VBox()"
      ]
     },
     "metadata": {},
     "output_type": "display_data"
    },
    {
     "data": {
      "application/vnd.jupyter.widget-view+json": {
       "model_id": "",
       "version_major": 2,
       "version_minor": 0
      },
      "text/plain": [
       "FloatProgress(value=0.0, bar_style='info', description='Progress:', layout=Layout(height='25px', width='50%'),…"
      ]
     },
     "metadata": {},
     "output_type": "display_data"
    },
    {
     "name": "stdout",
     "output_type": "stream",
     "text": [
      "+--------------+\n",
      "|Count_Syracuse|\n",
      "+--------------+\n",
      "|            20|\n",
      "+--------------+\n",
      "\n",
      "+------------------+\n",
      "|Count_Philadelphia|\n",
      "+------------------+\n",
      "|            200000|\n",
      "+------------------+"
     ]
    }
   ],
   "source": [
    "df_v1.createOrReplaceTempView(\"temp_trip_table_v1\")\n",
    "spark.sql(\"SELECT count(*) AS Count_Syracuse FROM temp_trip_table_v1 WHERE destination = 'Syracuse'\").show()\n",
    "spark.sql(\"SELECT count(*) AS Count_Philadelphia FROM temp_trip_table_v1 WHERE destination = 'Philadelphia'\").show()"
   ]
  },
  {
   "cell_type": "code",
   "execution_count": 43,
   "id": "9d0c77f5",
   "metadata": {
    "execution": {
     "iopub.execute_input": "2022-01-31T06:50:41.434802Z",
     "iopub.status.busy": "2022-01-31T06:50:41.434575Z",
     "iopub.status.idle": "2022-01-31T06:50:46.725511Z",
     "shell.execute_reply": "2022-01-31T06:50:46.724909Z",
     "shell.execute_reply.started": "2022-01-31T06:50:41.434778Z"
    }
   },
   "outputs": [
    {
     "data": {
      "application/vnd.jupyter.widget-view+json": {
       "model_id": "3063d1a710dd4c9eadf5d6d9abecab6f",
       "version_major": 2,
       "version_minor": 0
      },
      "text/plain": [
       "VBox()"
      ]
     },
     "metadata": {},
     "output_type": "display_data"
    },
    {
     "data": {
      "application/vnd.jupyter.widget-view+json": {
       "model_id": "",
       "version_major": 2,
       "version_minor": 0
      },
      "text/plain": [
       "FloatProgress(value=0.0, bar_style='info', description='Progress:', layout=Layout(height='25px', width='50%'),…"
      ]
     },
     "metadata": {},
     "output_type": "display_data"
    },
    {
     "name": "stdout",
     "output_type": "stream",
     "text": [
      "+--------------+\n",
      "|Count_Syracuse|\n",
      "+--------------+\n",
      "|             0|\n",
      "+--------------+\n",
      "\n",
      "+------------------+\n",
      "|Count_Philadelphia|\n",
      "+------------------+\n",
      "|            200020|\n",
      "+------------------+"
     ]
    }
   ],
   "source": [
    "spark.sql(\"SELECT count(*) AS Count_Syracuse FROM temp_trip_table_v2 WHERE destination = 'Syracuse'\").show()\n",
    "spark.sql(\"SELECT count(*) AS Count_Philadelphia FROM temp_trip_table_v2 WHERE destination = 'Philadelphia'\").show()"
   ]
  },
  {
   "cell_type": "code",
   "execution_count": 44,
   "id": "27c61de8",
   "metadata": {
    "execution": {
     "iopub.execute_input": "2022-01-31T06:52:38.995088Z",
     "iopub.status.busy": "2022-01-31T06:52:38.994854Z",
     "iopub.status.idle": "2022-01-31T06:52:44.288962Z",
     "shell.execute_reply": "2022-01-31T06:52:44.288114Z",
     "shell.execute_reply.started": "2022-01-31T06:52:38.995062Z"
    }
   },
   "outputs": [
    {
     "data": {
      "application/vnd.jupyter.widget-view+json": {
       "model_id": "38c8977ee8374205983750031f5fbe56",
       "version_major": 2,
       "version_minor": 0
      },
      "text/plain": [
       "VBox()"
      ]
     },
     "metadata": {},
     "output_type": "display_data"
    },
    {
     "data": {
      "application/vnd.jupyter.widget-view+json": {
       "model_id": "",
       "version_major": 2,
       "version_minor": 0
      },
      "text/plain": [
       "FloatProgress(value=0.0, bar_style='info', description='Progress:', layout=Layout(height='25px', width='50%'),…"
      ]
     },
     "metadata": {},
     "output_type": "display_data"
    },
    {
     "name": "stdout",
     "output_type": "stream",
     "text": [
      "+-----------+\n",
      "|Count_total|\n",
      "+-----------+\n",
      "|    2000020|\n",
      "+-----------+\n",
      "\n",
      "+--------+\n",
      "|Count_NJ|\n",
      "+--------+\n",
      "|  200000|\n",
      "+--------+"
     ]
    }
   ],
   "source": [
    "spark.sql(\"SELECT count(*) as Count_total FROM temp_trip_table_v2\").show()\n",
    "spark.sql(\"SELECT count(*) as Count_NJ FROM temp_trip_table_v2 WHERE destination = 'New Jersey'\").show()"
   ]
  },
  {
   "cell_type": "code",
   "execution_count": 45,
   "id": "b2d8d333",
   "metadata": {
    "execution": {
     "iopub.execute_input": "2022-01-31T06:53:25.163562Z",
     "iopub.status.busy": "2022-01-31T06:53:25.163331Z",
     "iopub.status.idle": "2022-01-31T06:53:30.467011Z",
     "shell.execute_reply": "2022-01-31T06:53:30.466397Z",
     "shell.execute_reply.started": "2022-01-31T06:53:25.163537Z"
    }
   },
   "outputs": [
    {
     "data": {
      "application/vnd.jupyter.widget-view+json": {
       "model_id": "b1f25eb8890c4e33bb45edd185eec30e",
       "version_major": 2,
       "version_minor": 0
      },
      "text/plain": [
       "VBox()"
      ]
     },
     "metadata": {},
     "output_type": "display_data"
    },
    {
     "data": {
      "application/vnd.jupyter.widget-view+json": {
       "model_id": "",
       "version_major": 2,
       "version_minor": 0
      },
      "text/plain": [
       "FloatProgress(value=0.0, bar_style='info', description='Progress:', layout=Layout(height='25px', width='50%'),…"
      ]
     },
     "metadata": {},
     "output_type": "display_data"
    },
    {
     "name": "stdout",
     "output_type": "stream",
     "text": [
      "+-----------+\n",
      "|Count_total|\n",
      "+-----------+\n",
      "|    1800020|\n",
      "+-----------+\n",
      "\n",
      "+--------+\n",
      "|Count_NJ|\n",
      "+--------+\n",
      "|       0|\n",
      "+--------+"
     ]
    }
   ],
   "source": [
    "df_v3.createOrReplaceTempView(\"temp_trip_table_v3\")\n",
    "spark.sql(\"SELECT count(*) as Count_total FROM temp_trip_table_v3\").show()\n",
    "spark.sql(\"SELECT count(*) as Count_NJ FROM temp_trip_table_v3 WHERE destination = 'New Jersey'\").show()"
   ]
  },
  {
   "cell_type": "code",
   "execution_count": null,
   "id": "50afba5a",
   "metadata": {},
   "outputs": [],
   "source": []
  }
 ],
 "metadata": {
  "availableInstances": [
   {
    "_defaultOrder": 0,
    "_isFastLaunch": true,
    "category": "General purpose",
    "gpuNum": 0,
    "hideHardwareSpecs": false,
    "memoryGiB": 4,
    "name": "ml.t3.medium",
    "vcpuNum": 2
   },
   {
    "_defaultOrder": 1,
    "_isFastLaunch": false,
    "category": "General purpose",
    "gpuNum": 0,
    "hideHardwareSpecs": false,
    "memoryGiB": 8,
    "name": "ml.t3.large",
    "vcpuNum": 2
   },
   {
    "_defaultOrder": 2,
    "_isFastLaunch": false,
    "category": "General purpose",
    "gpuNum": 0,
    "hideHardwareSpecs": false,
    "memoryGiB": 16,
    "name": "ml.t3.xlarge",
    "vcpuNum": 4
   },
   {
    "_defaultOrder": 3,
    "_isFastLaunch": false,
    "category": "General purpose",
    "gpuNum": 0,
    "hideHardwareSpecs": false,
    "memoryGiB": 32,
    "name": "ml.t3.2xlarge",
    "vcpuNum": 8
   },
   {
    "_defaultOrder": 4,
    "_isFastLaunch": true,
    "category": "General purpose",
    "gpuNum": 0,
    "hideHardwareSpecs": false,
    "memoryGiB": 8,
    "name": "ml.m5.large",
    "vcpuNum": 2
   },
   {
    "_defaultOrder": 5,
    "_isFastLaunch": false,
    "category": "General purpose",
    "gpuNum": 0,
    "hideHardwareSpecs": false,
    "memoryGiB": 16,
    "name": "ml.m5.xlarge",
    "vcpuNum": 4
   },
   {
    "_defaultOrder": 6,
    "_isFastLaunch": false,
    "category": "General purpose",
    "gpuNum": 0,
    "hideHardwareSpecs": false,
    "memoryGiB": 32,
    "name": "ml.m5.2xlarge",
    "vcpuNum": 8
   },
   {
    "_defaultOrder": 7,
    "_isFastLaunch": false,
    "category": "General purpose",
    "gpuNum": 0,
    "hideHardwareSpecs": false,
    "memoryGiB": 64,
    "name": "ml.m5.4xlarge",
    "vcpuNum": 16
   },
   {
    "_defaultOrder": 8,
    "_isFastLaunch": false,
    "category": "General purpose",
    "gpuNum": 0,
    "hideHardwareSpecs": false,
    "memoryGiB": 128,
    "name": "ml.m5.8xlarge",
    "vcpuNum": 32
   },
   {
    "_defaultOrder": 9,
    "_isFastLaunch": false,
    "category": "General purpose",
    "gpuNum": 0,
    "hideHardwareSpecs": false,
    "memoryGiB": 192,
    "name": "ml.m5.12xlarge",
    "vcpuNum": 48
   },
   {
    "_defaultOrder": 10,
    "_isFastLaunch": false,
    "category": "General purpose",
    "gpuNum": 0,
    "hideHardwareSpecs": false,
    "memoryGiB": 256,
    "name": "ml.m5.16xlarge",
    "vcpuNum": 64
   },
   {
    "_defaultOrder": 11,
    "_isFastLaunch": false,
    "category": "General purpose",
    "gpuNum": 0,
    "hideHardwareSpecs": false,
    "memoryGiB": 384,
    "name": "ml.m5.24xlarge",
    "vcpuNum": 96
   },
   {
    "_defaultOrder": 12,
    "_isFastLaunch": false,
    "category": "General purpose",
    "gpuNum": 0,
    "hideHardwareSpecs": false,
    "memoryGiB": 8,
    "name": "ml.m5d.large",
    "vcpuNum": 2
   },
   {
    "_defaultOrder": 13,
    "_isFastLaunch": false,
    "category": "General purpose",
    "gpuNum": 0,
    "hideHardwareSpecs": false,
    "memoryGiB": 16,
    "name": "ml.m5d.xlarge",
    "vcpuNum": 4
   },
   {
    "_defaultOrder": 14,
    "_isFastLaunch": false,
    "category": "General purpose",
    "gpuNum": 0,
    "hideHardwareSpecs": false,
    "memoryGiB": 32,
    "name": "ml.m5d.2xlarge",
    "vcpuNum": 8
   },
   {
    "_defaultOrder": 15,
    "_isFastLaunch": false,
    "category": "General purpose",
    "gpuNum": 0,
    "hideHardwareSpecs": false,
    "memoryGiB": 64,
    "name": "ml.m5d.4xlarge",
    "vcpuNum": 16
   },
   {
    "_defaultOrder": 16,
    "_isFastLaunch": false,
    "category": "General purpose",
    "gpuNum": 0,
    "hideHardwareSpecs": false,
    "memoryGiB": 128,
    "name": "ml.m5d.8xlarge",
    "vcpuNum": 32
   },
   {
    "_defaultOrder": 17,
    "_isFastLaunch": false,
    "category": "General purpose",
    "gpuNum": 0,
    "hideHardwareSpecs": false,
    "memoryGiB": 192,
    "name": "ml.m5d.12xlarge",
    "vcpuNum": 48
   },
   {
    "_defaultOrder": 18,
    "_isFastLaunch": false,
    "category": "General purpose",
    "gpuNum": 0,
    "hideHardwareSpecs": false,
    "memoryGiB": 256,
    "name": "ml.m5d.16xlarge",
    "vcpuNum": 64
   },
   {
    "_defaultOrder": 19,
    "_isFastLaunch": false,
    "category": "General purpose",
    "gpuNum": 0,
    "hideHardwareSpecs": false,
    "memoryGiB": 384,
    "name": "ml.m5d.24xlarge",
    "vcpuNum": 96
   },
   {
    "_defaultOrder": 20,
    "_isFastLaunch": false,
    "category": "General purpose",
    "gpuNum": 0,
    "hideHardwareSpecs": true,
    "memoryGiB": 0,
    "name": "ml.geospatial.interactive",
    "supportedImageNames": [
     "sagemaker-geospatial-v1-0"
    ],
    "vcpuNum": 0
   },
   {
    "_defaultOrder": 21,
    "_isFastLaunch": true,
    "category": "Compute optimized",
    "gpuNum": 0,
    "hideHardwareSpecs": false,
    "memoryGiB": 4,
    "name": "ml.c5.large",
    "vcpuNum": 2
   },
   {
    "_defaultOrder": 22,
    "_isFastLaunch": false,
    "category": "Compute optimized",
    "gpuNum": 0,
    "hideHardwareSpecs": false,
    "memoryGiB": 8,
    "name": "ml.c5.xlarge",
    "vcpuNum": 4
   },
   {
    "_defaultOrder": 23,
    "_isFastLaunch": false,
    "category": "Compute optimized",
    "gpuNum": 0,
    "hideHardwareSpecs": false,
    "memoryGiB": 16,
    "name": "ml.c5.2xlarge",
    "vcpuNum": 8
   },
   {
    "_defaultOrder": 24,
    "_isFastLaunch": false,
    "category": "Compute optimized",
    "gpuNum": 0,
    "hideHardwareSpecs": false,
    "memoryGiB": 32,
    "name": "ml.c5.4xlarge",
    "vcpuNum": 16
   },
   {
    "_defaultOrder": 25,
    "_isFastLaunch": false,
    "category": "Compute optimized",
    "gpuNum": 0,
    "hideHardwareSpecs": false,
    "memoryGiB": 72,
    "name": "ml.c5.9xlarge",
    "vcpuNum": 36
   },
   {
    "_defaultOrder": 26,
    "_isFastLaunch": false,
    "category": "Compute optimized",
    "gpuNum": 0,
    "hideHardwareSpecs": false,
    "memoryGiB": 96,
    "name": "ml.c5.12xlarge",
    "vcpuNum": 48
   },
   {
    "_defaultOrder": 27,
    "_isFastLaunch": false,
    "category": "Compute optimized",
    "gpuNum": 0,
    "hideHardwareSpecs": false,
    "memoryGiB": 144,
    "name": "ml.c5.18xlarge",
    "vcpuNum": 72
   },
   {
    "_defaultOrder": 28,
    "_isFastLaunch": false,
    "category": "Compute optimized",
    "gpuNum": 0,
    "hideHardwareSpecs": false,
    "memoryGiB": 192,
    "name": "ml.c5.24xlarge",
    "vcpuNum": 96
   },
   {
    "_defaultOrder": 29,
    "_isFastLaunch": true,
    "category": "Accelerated computing",
    "gpuNum": 1,
    "hideHardwareSpecs": false,
    "memoryGiB": 16,
    "name": "ml.g4dn.xlarge",
    "vcpuNum": 4
   },
   {
    "_defaultOrder": 30,
    "_isFastLaunch": false,
    "category": "Accelerated computing",
    "gpuNum": 1,
    "hideHardwareSpecs": false,
    "memoryGiB": 32,
    "name": "ml.g4dn.2xlarge",
    "vcpuNum": 8
   },
   {
    "_defaultOrder": 31,
    "_isFastLaunch": false,
    "category": "Accelerated computing",
    "gpuNum": 1,
    "hideHardwareSpecs": false,
    "memoryGiB": 64,
    "name": "ml.g4dn.4xlarge",
    "vcpuNum": 16
   },
   {
    "_defaultOrder": 32,
    "_isFastLaunch": false,
    "category": "Accelerated computing",
    "gpuNum": 1,
    "hideHardwareSpecs": false,
    "memoryGiB": 128,
    "name": "ml.g4dn.8xlarge",
    "vcpuNum": 32
   },
   {
    "_defaultOrder": 33,
    "_isFastLaunch": false,
    "category": "Accelerated computing",
    "gpuNum": 4,
    "hideHardwareSpecs": false,
    "memoryGiB": 192,
    "name": "ml.g4dn.12xlarge",
    "vcpuNum": 48
   },
   {
    "_defaultOrder": 34,
    "_isFastLaunch": false,
    "category": "Accelerated computing",
    "gpuNum": 1,
    "hideHardwareSpecs": false,
    "memoryGiB": 256,
    "name": "ml.g4dn.16xlarge",
    "vcpuNum": 64
   },
   {
    "_defaultOrder": 35,
    "_isFastLaunch": false,
    "category": "Accelerated computing",
    "gpuNum": 1,
    "hideHardwareSpecs": false,
    "memoryGiB": 61,
    "name": "ml.p3.2xlarge",
    "vcpuNum": 8
   },
   {
    "_defaultOrder": 36,
    "_isFastLaunch": false,
    "category": "Accelerated computing",
    "gpuNum": 4,
    "hideHardwareSpecs": false,
    "memoryGiB": 244,
    "name": "ml.p3.8xlarge",
    "vcpuNum": 32
   },
   {
    "_defaultOrder": 37,
    "_isFastLaunch": false,
    "category": "Accelerated computing",
    "gpuNum": 8,
    "hideHardwareSpecs": false,
    "memoryGiB": 488,
    "name": "ml.p3.16xlarge",
    "vcpuNum": 64
   },
   {
    "_defaultOrder": 38,
    "_isFastLaunch": false,
    "category": "Accelerated computing",
    "gpuNum": 8,
    "hideHardwareSpecs": false,
    "memoryGiB": 768,
    "name": "ml.p3dn.24xlarge",
    "vcpuNum": 96
   },
   {
    "_defaultOrder": 39,
    "_isFastLaunch": false,
    "category": "Memory Optimized",
    "gpuNum": 0,
    "hideHardwareSpecs": false,
    "memoryGiB": 16,
    "name": "ml.r5.large",
    "vcpuNum": 2
   },
   {
    "_defaultOrder": 40,
    "_isFastLaunch": false,
    "category": "Memory Optimized",
    "gpuNum": 0,
    "hideHardwareSpecs": false,
    "memoryGiB": 32,
    "name": "ml.r5.xlarge",
    "vcpuNum": 4
   },
   {
    "_defaultOrder": 41,
    "_isFastLaunch": false,
    "category": "Memory Optimized",
    "gpuNum": 0,
    "hideHardwareSpecs": false,
    "memoryGiB": 64,
    "name": "ml.r5.2xlarge",
    "vcpuNum": 8
   },
   {
    "_defaultOrder": 42,
    "_isFastLaunch": false,
    "category": "Memory Optimized",
    "gpuNum": 0,
    "hideHardwareSpecs": false,
    "memoryGiB": 128,
    "name": "ml.r5.4xlarge",
    "vcpuNum": 16
   },
   {
    "_defaultOrder": 43,
    "_isFastLaunch": false,
    "category": "Memory Optimized",
    "gpuNum": 0,
    "hideHardwareSpecs": false,
    "memoryGiB": 256,
    "name": "ml.r5.8xlarge",
    "vcpuNum": 32
   },
   {
    "_defaultOrder": 44,
    "_isFastLaunch": false,
    "category": "Memory Optimized",
    "gpuNum": 0,
    "hideHardwareSpecs": false,
    "memoryGiB": 384,
    "name": "ml.r5.12xlarge",
    "vcpuNum": 48
   },
   {
    "_defaultOrder": 45,
    "_isFastLaunch": false,
    "category": "Memory Optimized",
    "gpuNum": 0,
    "hideHardwareSpecs": false,
    "memoryGiB": 512,
    "name": "ml.r5.16xlarge",
    "vcpuNum": 64
   },
   {
    "_defaultOrder": 46,
    "_isFastLaunch": false,
    "category": "Memory Optimized",
    "gpuNum": 0,
    "hideHardwareSpecs": false,
    "memoryGiB": 768,
    "name": "ml.r5.24xlarge",
    "vcpuNum": 96
   },
   {
    "_defaultOrder": 47,
    "_isFastLaunch": false,
    "category": "Accelerated computing",
    "gpuNum": 1,
    "hideHardwareSpecs": false,
    "memoryGiB": 16,
    "name": "ml.g5.xlarge",
    "vcpuNum": 4
   },
   {
    "_defaultOrder": 48,
    "_isFastLaunch": false,
    "category": "Accelerated computing",
    "gpuNum": 1,
    "hideHardwareSpecs": false,
    "memoryGiB": 32,
    "name": "ml.g5.2xlarge",
    "vcpuNum": 8
   },
   {
    "_defaultOrder": 49,
    "_isFastLaunch": false,
    "category": "Accelerated computing",
    "gpuNum": 1,
    "hideHardwareSpecs": false,
    "memoryGiB": 64,
    "name": "ml.g5.4xlarge",
    "vcpuNum": 16
   },
   {
    "_defaultOrder": 50,
    "_isFastLaunch": false,
    "category": "Accelerated computing",
    "gpuNum": 1,
    "hideHardwareSpecs": false,
    "memoryGiB": 128,
    "name": "ml.g5.8xlarge",
    "vcpuNum": 32
   },
   {
    "_defaultOrder": 51,
    "_isFastLaunch": false,
    "category": "Accelerated computing",
    "gpuNum": 1,
    "hideHardwareSpecs": false,
    "memoryGiB": 256,
    "name": "ml.g5.16xlarge",
    "vcpuNum": 64
   },
   {
    "_defaultOrder": 52,
    "_isFastLaunch": false,
    "category": "Accelerated computing",
    "gpuNum": 4,
    "hideHardwareSpecs": false,
    "memoryGiB": 192,
    "name": "ml.g5.12xlarge",
    "vcpuNum": 48
   },
   {
    "_defaultOrder": 53,
    "_isFastLaunch": false,
    "category": "Accelerated computing",
    "gpuNum": 4,
    "hideHardwareSpecs": false,
    "memoryGiB": 384,
    "name": "ml.g5.24xlarge",
    "vcpuNum": 96
   },
   {
    "_defaultOrder": 54,
    "_isFastLaunch": false,
    "category": "Accelerated computing",
    "gpuNum": 8,
    "hideHardwareSpecs": false,
    "memoryGiB": 768,
    "name": "ml.g5.48xlarge",
    "vcpuNum": 192
   }
  ],
  "instance_type": "ml.t3.medium",
  "kernelspec": {
   "display_name": "PySpark (SparkMagic)",
   "language": "python",
   "name": "pysparkkernel__SAGEMAKER_INTERNAL__arn:aws:sagemaker:us-east-2:429704687514:image/sagemaker-sparkmagic"
  },
  "language_info": {
   "codemirror_mode": {
    "name": "python",
    "version": 3
   },
   "file_extension": ".py",
   "mimetype": "text/x-python",
   "name": "pyspark",
   "pygments_lexer": "python3"
  }
 },
 "nbformat": 4,
 "nbformat_minor": 5
}
